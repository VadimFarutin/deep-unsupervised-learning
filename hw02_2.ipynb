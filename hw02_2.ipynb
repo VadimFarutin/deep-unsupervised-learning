{
  "nbformat": 4,
  "nbformat_minor": 0,
  "metadata": {
    "kernelspec": {
      "name": "python3",
      "display_name": "Python 3"
    },
    "colab": {
      "name": "HSE_DUL_HW02_2.ipynb",
      "provenance": [],
      "collapsed_sections": [],
      "toc_visible": true,
      "include_colab_link": true
    },
    "accelerator": "GPU"
  },
  "cells": [
    {
      "cell_type": "markdown",
      "metadata": {
        "id": "view-in-github",
        "colab_type": "text"
      },
      "source": [
        "<a href=\"https://colab.research.google.com/github/VadimFarutin/deep-unsupervised-learning/blob/hw02/hw02_2.ipynb\" target=\"_parent\"><img src=\"https://colab.research.google.com/assets/colab-badge.svg\" alt=\"Open In Colab\"/></a>"
      ]
    },
    {
      "cell_type": "markdown",
      "metadata": {
        "id": "kJqNPVBJroKY",
        "colab_type": "text"
      },
      "source": [
        "# HW02"
      ]
    },
    {
      "cell_type": "markdown",
      "metadata": {
        "id": "SrQu_IAartq0",
        "colab_type": "text"
      },
      "source": [
        "## 2 High-dimensional data"
      ]
    },
    {
      "cell_type": "markdown",
      "metadata": {
        "id": "okcxjqsMkjkB",
        "colab_type": "text"
      },
      "source": [
        "### Imports and Data"
      ]
    },
    {
      "cell_type": "code",
      "metadata": {
        "id": "AfYk_JjWsim4",
        "colab_type": "code",
        "colab": {}
      },
      "source": [
        "%%capture\n",
        "!pip install graphql-core==2.0\n",
        "!pip install wandb -q"
      ],
      "execution_count": 0,
      "outputs": []
    },
    {
      "cell_type": "code",
      "metadata": {
        "id": "Mx6pvu3gspLN",
        "colab_type": "code",
        "outputId": "ab8aa22e-0bd3-46b0-a2a6-5d9cded05d1e",
        "colab": {
          "base_uri": "https://localhost:8080/",
          "height": 181
        }
      },
      "source": [
        "import wandb\n",
        "!wandb login"
      ],
      "execution_count": 6,
      "outputs": [
        {
          "output_type": "stream",
          "text": [
            "\u001b[34m\u001b[1mwandb\u001b[0m: (1) Create a W&B account\n",
            "\u001b[34m\u001b[1mwandb\u001b[0m: (2) Use an existing W&B account\n",
            "\u001b[34m\u001b[1mwandb\u001b[0m: (3) Don't visualize my results\n",
            "\u001b[34m\u001b[1mwandb\u001b[0m: Enter your choice: 2\n",
            "\u001b[34m\u001b[1mwandb\u001b[0m: You chose 'Use an existing W&B account'\n",
            "\u001b[34m\u001b[1mwandb\u001b[0m: You can find your API key in your browser here: https://app.wandb.ai/authorize\n",
            "\u001b[34m\u001b[1mwandb\u001b[0m: Paste an API key from your profile and hit enter: 8c292ca69e334e8a562d4a4c6570fdd3ad29c825\n",
            "\u001b[34m\u001b[1mwandb\u001b[0m: Appending key for api.wandb.ai to your netrc file: /root/.netrc\n",
            "\u001b[32mSuccessfully logged in to Weights & Biases!\u001b[0m\n"
          ],
          "name": "stdout"
        }
      ]
    },
    {
      "cell_type": "code",
      "metadata": {
        "id": "-GdLTPv3xdKi",
        "colab_type": "code",
        "colab": {}
      },
      "source": [
        "from collections import defaultdict\n",
        "from tqdm import tnrange, tqdm_notebook\n",
        "from tqdm.auto import tqdm\n",
        "from sklearn.model_selection import train_test_split\n",
        "import numpy as np\n",
        "from matplotlib import pyplot as plt\n",
        "import random\n",
        "import pickle\n",
        "\n",
        "import torch\n",
        "import torch.nn as nn\n",
        "from torch.nn.modules import loss\n",
        "import torch.nn.functional as F\n",
        "import torch.optim as optim\n",
        "from torch.utils.data.dataset import Dataset\n",
        "from torch.nn.utils.rnn import pad_sequence\n",
        "from torch.distributions import Normal, Uniform, MultivariateNormal"
      ],
      "execution_count": 0,
      "outputs": []
    },
    {
      "cell_type": "code",
      "metadata": {
        "id": "UnFSXUV3xdK0",
        "colab_type": "code",
        "colab": {}
      },
      "source": [
        "SEED = 42\n",
        "torch.manual_seed(SEED)\n",
        "torch.cuda.manual_seed_all(SEED)\n",
        "random.seed(SEED)\n",
        "np.random.seed(SEED)"
      ],
      "execution_count": 0,
      "outputs": []
    },
    {
      "cell_type": "code",
      "metadata": {
        "id": "th_KCfdCxdLC",
        "colab_type": "code",
        "outputId": "b2d728a7-f00d-4e36-9106-86edebf6ccf9",
        "colab": {
          "base_uri": "https://localhost:8080/",
          "height": 35
        }
      },
      "source": [
        "DEVICE = torch.device('cuda' if torch.cuda.is_available() else 'cpu')\n",
        "# DEVICE = torch.device('cpu')\n",
        "print(DEVICE)"
      ],
      "execution_count": 9,
      "outputs": [
        {
          "output_type": "stream",
          "text": [
            "cuda\n"
          ],
          "name": "stdout"
        }
      ]
    },
    {
      "cell_type": "code",
      "metadata": {
        "id": "8ZEzd86o9yE0",
        "colab_type": "code",
        "colab": {}
      },
      "source": [
        "EPS = 1e-5\n",
        "MAX_VALUE = 5"
      ],
      "execution_count": 0,
      "outputs": []
    },
    {
      "cell_type": "code",
      "metadata": {
        "id": "gQAiBChL3h3q",
        "colab_type": "code",
        "outputId": "a3a576ca-fc7c-4387-f426-c78afd0177bb",
        "colab": {
          "base_uri": "https://localhost:8080/",
          "height": 55
        }
      },
      "source": [
        "from google.colab import drive\n",
        "drive.mount('/content/drive')"
      ],
      "execution_count": 11,
      "outputs": [
        {
          "output_type": "stream",
          "text": [
            "Drive already mounted at /content/drive; to attempt to forcibly remount, call drive.mount(\"/content/drive\", force_remount=True).\n"
          ],
          "name": "stdout"
        }
      ]
    },
    {
      "cell_type": "code",
      "metadata": {
        "id": "wZvr0NM23p8S",
        "colab_type": "code",
        "colab": {}
      },
      "source": [
        "def read_data():\n",
        "    path = 'drive/My Drive/hw2_q2.pkl'\n",
        "\n",
        "    with open(path, 'rb') as file:\n",
        "        dataset = pickle.load(file)\n",
        "    \n",
        "    return dataset['train'].transpose(0, 3, 1, 2), dataset['test'].transpose(0, 3, 1, 2)\n"
      ],
      "execution_count": 0,
      "outputs": []
    },
    {
      "cell_type": "code",
      "metadata": {
        "id": "Y1Ni4f8NxdLt",
        "colab_type": "code",
        "colab": {}
      },
      "source": [
        "train, val = read_data()"
      ],
      "execution_count": 0,
      "outputs": []
    },
    {
      "cell_type": "code",
      "metadata": {
        "id": "uuWkev9L00yv",
        "colab_type": "code",
        "outputId": "9657edcf-8ded-4f00-fd82-502aeeebea36",
        "colab": {
          "base_uri": "https://localhost:8080/",
          "height": 35
        }
      },
      "source": [
        "print(train.shape, val.shape)"
      ],
      "execution_count": 14,
      "outputs": [
        {
          "output_type": "stream",
          "text": [
            "(20000, 3, 32, 32) (6838, 3, 32, 32)\n"
          ],
          "name": "stdout"
        }
      ]
    },
    {
      "cell_type": "markdown",
      "metadata": {
        "id": "L1cQRRvYPsFK",
        "colab_type": "text"
      },
      "source": [
        "### Common code"
      ]
    },
    {
      "cell_type": "code",
      "metadata": {
        "id": "4HhGDJi7xvWt",
        "colab_type": "code",
        "colab": {}
      },
      "source": [
        "def MyNLLLoss(y):\n",
        "    # return -torch.mean(torch.log(y + EPS)) / 2\n",
        "    return -torch.mean(y) / 2"
      ],
      "execution_count": 0,
      "outputs": []
    },
    {
      "cell_type": "code",
      "metadata": {
        "id": "6xw73WgmxdNT",
        "colab_type": "code",
        "colab": {}
      },
      "source": [
        "from torch import autograd\n",
        "\n",
        "def fit(model, train, val, optimizer, loss_function, epoch_cnt, batch_size):\n",
        "    train_loader = torch.utils.data.DataLoader(torch.from_numpy(train), batch_size=batch_size, shuffle=True)\n",
        "    val_loader = torch.utils.data.DataLoader(torch.from_numpy(val), batch_size=batch_size)\n",
        "    train_loss_values = []\n",
        "    val_loss_values = []\n",
        "            \n",
        "    with autograd.detect_anomaly():\n",
        "        for epoch in tnrange(epoch_cnt, desc='Epoch'):\n",
        "            model.train()\n",
        "            for batch_data in train_loader:\n",
        "                x = batch_data.float().to(DEVICE)\n",
        "                optimizer.zero_grad()\n",
        "                output = model(x)\n",
        "                # print(\"..............................passed forward..........................\")\n",
        "                loss = loss_function(output)\n",
        "                train_loss_values.append(loss.item())\n",
        "                loss.backward()\n",
        "                nn.utils.clip_grad_norm_(model.parameters(), 5)\n",
        "                optimizer.step()\n",
        "                # print(\"..............................passed step..........................\")\n",
        "\n",
        "                wandb.log({\"Train Loss\": loss.item()})\n",
        "\n",
        "            loss_values = []\n",
        "            model.eval()\n",
        "            for batch_data in val_loader:\n",
        "                x = batch_data.float().to(DEVICE)\n",
        "                output = model(x)\n",
        "                loss = loss_function(output)\n",
        "                loss_values.append(loss.item())\n",
        "            val_loss_values.append(np.mean(np.array(loss_values)))\n",
        "\n",
        "            wandb.log({\"Validation Loss\": val_loss_values[-1]})\n",
        "    \n",
        "    return train_loss_values, val_loss_values \n"
      ],
      "execution_count": 0,
      "outputs": []
    },
    {
      "cell_type": "code",
      "metadata": {
        "id": "vsH8OQi0xdNy",
        "colab_type": "code",
        "colab": {}
      },
      "source": [
        "def plot_loss_values(train_loss_values, val_loss_values):\n",
        "    plt.plot(np.arange(len(train_loss_values)), train_loss_values, color='blue', label='train')\n",
        "    plt.plot(np.arange(0, len(train_loss_values), len(train_loss_values) / config.epochs), val_loss_values, color='red', label='validation')\n",
        "    plt.legend()\n",
        "    plt.title(\"Loss values\")\n",
        "    plt.xlabel(\"iteration\")\n",
        "    plt.ylabel(\"loss\")\n",
        "    plt.show()"
      ],
      "execution_count": 0,
      "outputs": []
    },
    {
      "cell_type": "markdown",
      "metadata": {
        "id": "VUW2EIlZY_6y",
        "colab_type": "text"
      },
      "source": [
        "### RealNVP"
      ]
    },
    {
      "cell_type": "code",
      "metadata": {
        "id": "hH8pCSaP_6Yu",
        "colab_type": "code",
        "colab": {}
      },
      "source": [
        "class ResBlock(nn.Module):\n",
        "    def __init__(self, channels, type):\n",
        "        super(ResBlock, self).__init__()\n",
        "\n",
        "        if type == 'A':\n",
        "            self.layers = nn.Sequential(nn.Conv2d(channels, channels, kernel_size=(1, 1), stride=(1, 1), padding=0),\n",
        "                                        nn.BatchNorm2d(channels),\n",
        "                                        nn.ReLU(),\n",
        "                                        nn.Conv2d(channels, channels, kernel_size=(3, 3), stride=(1, 1), padding=1),\n",
        "                                        nn.BatchNorm2d(channels))        \n",
        "        else:\n",
        "            self.layers = nn.Sequential(nn.ReLU(),\n",
        "                                        nn.Conv2d(channels, channels, kernel_size=(1,1), stride=(1, 1), padding=0))\n",
        "        \n",
        "    def forward(self, x):\n",
        "        out = self.layers(x)\n",
        "        return out\n",
        "\n",
        "    def __call__(self, x):\n",
        "        return self.forward(x)"
      ],
      "execution_count": 0,
      "outputs": []
    },
    {
      "cell_type": "code",
      "metadata": {
        "id": "6_UHFBMcCeoD",
        "colab_type": "code",
        "colab": {}
      },
      "source": [
        "class Resnet(nn.Module):\n",
        "    def __init__(self, in_channels, hidden_size, n_blocks):\n",
        "        super(Resnet, self).__init__()\n",
        "        out_channels = in_channels * 2\n",
        "\n",
        "        self.conv1 = nn.Conv2d(in_channels, hidden_size, kernel_size=(3, 3), stride=(1, 1), padding=2)\n",
        "\n",
        "        self.res_blocks_a = torch.nn.ModuleList([ResBlock(hidden_size, 'A')\n",
        "                                                 for _ in range(n_blocks)])\n",
        "        self.res_blocks_b = torch.nn.ModuleList([ResBlock(hidden_size, 'B')\n",
        "                                                 for _ in range(n_blocks)])\n",
        "\n",
        "        self.relu = nn.ReLU()\n",
        "        self.conv2 = nn.Conv2d(hidden_size, out_channels, kernel_size=(3, 3), stride=(1, 1))\n",
        "    \n",
        "    def forward(self, x):\n",
        "        h = x\n",
        "        h = self.conv1(h)\n",
        "\n",
        "        for res_block_a, res_block_b in zip(self.res_blocks_a, self.res_blocks_b):\n",
        "            _h = res_block_a(h)\n",
        "            h = res_block_b(_h)\n",
        "            h = h + _h\n",
        "            h = self.relu(h)\n",
        "\n",
        "        h = self.conv2(h)\n",
        "\n",
        "        return h\n",
        "\n",
        "    def __call__(self, x):\n",
        "        return self.forward(x)"
      ],
      "execution_count": 0,
      "outputs": []
    },
    {
      "cell_type": "code",
      "metadata": {
        "id": "XYBWaChM7gWq",
        "colab_type": "code",
        "colab": {}
      },
      "source": [
        "class AffineCoupling(nn.Module):\n",
        "    def __init__(self, mask, in_channels):\n",
        "        super(AffineCoupling, self).__init__()\n",
        "        self.mask = mask\n",
        "        # self.resnet = Resnet(in_channels, hidden_size=256, n_blocks=8)\n",
        "        self.resnet = Resnet(in_channels, hidden_size=64, n_blocks=1)\n",
        "    \n",
        "    def forward(self, x):\n",
        "        y1 = self.mask * x\n",
        "        log_s, t = torch.chunk(self.resnet(y1), 2, dim=1)\n",
        "        log_det = torch.sum(log_s.view(y1.shape[0], -1), dim=1)\n",
        "\n",
        "        return log_det\n",
        "\n",
        "    def latent(self, x):\n",
        "        y1 = self.mask * x\n",
        "        log_s, t = torch.chunk(self.resnet(y1), 2, dim=1)\n",
        "        y2 = (1 - self.mask) * torch.exp(log_s) * (x + t)\n",
        "\n",
        "        return y1 + y2\n",
        "\n",
        "    def inverse(self, y):\n",
        "        x1 = self.mask * y\n",
        "        log_s, t = torch.chunk(self.resnet(x1), 2, dim=1)\n",
        "        x2 = (1 - self.mask) * y * torch.exp(-log_s) - t\n",
        "\n",
        "        return x1 + x2\n",
        "        \n",
        "    def __call__(self, x):\n",
        "        return self.forward(x)"
      ],
      "execution_count": 0,
      "outputs": []
    },
    {
      "cell_type": "code",
      "metadata": {
        "id": "ZtUbjZBohorY",
        "colab_type": "code",
        "colab": {}
      },
      "source": [
        "class ActNorm(nn.Module):\n",
        "    def __init__(self, in_channels, size):\n",
        "        super(ActNorm, self).__init__()\n",
        "        \n",
        "        self.w = nn.Parameter(torch.ones([1, in_channels, size[0], size[1]]))\n",
        "        self.b = nn.Parameter(torch.zeros([1, in_channels, size[0], size[1]]))\n",
        "        \n",
        "    def forward(self, x):\n",
        "        logdet = torch.log(self.w.abs() + EPS).flatten(1).sum(dim=1)\n",
        "        return logdet\n",
        "        # return torch.zeros(x.shape[0]).to(DEVICE)\n",
        "\n",
        "    def latent(self, x):\n",
        "        y = x * self.w + self.b\n",
        "        return y\n",
        "        # return x\n",
        "\n",
        "    def inverse(self, y):\n",
        "        x = (y - self.b) / self.w\n",
        "        return x\n",
        "        # return y\n",
        "\n",
        "    def __call__(self, x):\n",
        "        return self.forward(x)"
      ],
      "execution_count": 0,
      "outputs": []
    },
    {
      "cell_type": "code",
      "metadata": {
        "id": "DgOI9idUIb1F",
        "colab_type": "code",
        "colab": {}
      },
      "source": [
        "class Preprocess(nn.Module):\n",
        "    def __init__(self, alpha):\n",
        "        super(Preprocess, self).__init__()\n",
        "        \n",
        "        self.alpha = alpha\n",
        "        \n",
        "    def forward(self, x):\n",
        "        y = self.alpha + (1.0 - self.alpha) * x / 4.0\n",
        "        diag = (torch.ones_like(x) * (1.0 - self.alpha) / 4.0).flatten(start_dim=1)\n",
        "        logdet = torch.log(diag.abs()).sum(dim=1)\n",
        "        diag = (1.0 / y + 1.0 / (1.0 - y)).abs().flatten(start_dim=1)\n",
        "        logdet = logdet + torch.log(diag + EPS).sum(dim=1)\n",
        "        return logdet\n",
        "\n",
        "    def latent(self, x):\n",
        "        y = self.alpha + (1.0 - self.alpha) * x / 4.0\n",
        "        y = torch.log(y) - torch.log(1.0 - y)\n",
        "        return y\n",
        "\n",
        "    def inverse(self, y):\n",
        "        x = torch.exp(y)\n",
        "        x = x / (x + 1.0)\n",
        "        x = 4.0 * (x - self.alpha) / (1.0 - self.alpha)\n",
        "        return x\n",
        "\n",
        "    def __call__(self, x):\n",
        "        return self.forward(x)"
      ],
      "execution_count": 0,
      "outputs": []
    },
    {
      "cell_type": "code",
      "metadata": {
        "id": "COE5HU5bDb6h",
        "colab_type": "code",
        "colab": {}
      },
      "source": [
        "class MyRealNVP(nn.Module):\n",
        "    def __init__(self, in_channels, size):\n",
        "        super(MyRealNVP, self).__init__()\n",
        "\n",
        "        self.preprocess = Preprocess(0.05)\n",
        "\n",
        "        mask = self.checkerboard_mask(in_channels, size)\n",
        "        self.couplings1 = nn.Sequential(AffineCoupling(mask, in_channels),\n",
        "                                        ActNorm(in_channels, size),\n",
        "                                        AffineCoupling(1 - mask, in_channels),\n",
        "                                        ActNorm(in_channels, size),\n",
        "                                        AffineCoupling(mask, in_channels),\n",
        "                                        ActNorm(in_channels, size),\n",
        "                                        AffineCoupling(1 - mask, in_channels),\n",
        "                                        ActNorm(in_channels, size)\n",
        "                                        )\n",
        "\n",
        "        size = size[0] // 2, size[1] // 2\n",
        "        in_channels = in_channels * 4\n",
        "        mask = self.channel_split_mask(in_channels, size)\n",
        "        self.couplings2 = nn.Sequential(AffineCoupling(mask, in_channels),\n",
        "                                        ActNorm(in_channels, size),\n",
        "                                        AffineCoupling(1 - mask, in_channels),\n",
        "                                        ActNorm(in_channels, size),\n",
        "                                        AffineCoupling(mask, in_channels),\n",
        "                                        ActNorm(in_channels, size))\n",
        "\n",
        "        mask = self.checkerboard_mask(in_channels, size)\n",
        "        self.couplings3 = nn.Sequential(AffineCoupling(mask, in_channels),\n",
        "                                        ActNorm(in_channels, size),\n",
        "                                        AffineCoupling(1 - mask, in_channels),\n",
        "                                        ActNorm(in_channels, size),\n",
        "                                        AffineCoupling(mask, in_channels),\n",
        "                                        ActNorm(in_channels, size))\n",
        "\n",
        "        size = size[0] // 2, size[1] // 2\n",
        "        in_channels = in_channels * 4\n",
        "        mask = self.channel_split_mask(in_channels, size)\n",
        "        self.couplings4 = nn.Sequential(AffineCoupling(mask, in_channels),\n",
        "                                        ActNorm(in_channels, size),\n",
        "                                        AffineCoupling(1 - mask, in_channels),\n",
        "                                        ActNorm(in_channels, size),\n",
        "                                        AffineCoupling(mask, in_channels),\n",
        "                                        ActNorm(in_channels, size))\n",
        "\n",
        "        mask = self.checkerboard_mask(in_channels, size)\n",
        "        self.couplings5 = nn.Sequential(AffineCoupling(mask, in_channels),\n",
        "                                        ActNorm(in_channels, size),\n",
        "                                        AffineCoupling(1 - mask, in_channels),\n",
        "                                        ActNorm(in_channels, size),\n",
        "                                        AffineCoupling(mask, in_channels),\n",
        "                                        ActNorm(in_channels, size))\n",
        "\n",
        "    def checkerboard_mask(self, in_channels, size):\n",
        "        black = np.ones([1, in_channels, size[0], size[1]], dtype=np.bool)\n",
        "        white = np.ones([1, in_channels, size[0], size[1]], dtype=np.bool)\n",
        "        black[:, :, np.arange(1, size[0], 2), :] = False \n",
        "        white[:, :, :, np.arange(0, size[1], 2)] = False\n",
        "        mask = torch.tensor(black ^ white, dtype=torch.float32).to(DEVICE)\n",
        "\n",
        "        return mask\n",
        "\n",
        "    def channel_split_mask(self, in_channels, size):\n",
        "        mask = torch.zeros([1, in_channels, size[0], size[1]], dtype=torch.float32).to(DEVICE)\n",
        "        channels_i = np.arange(0, in_channels // 4) * 4\n",
        "        channels_i = np.stack((channels_i, channels_i + 1), axis=1).reshape(-1)\n",
        "        mask[:, channels_i, :, :] = 1.0\n",
        "\n",
        "        return mask\n",
        "    \n",
        "    def squeeze(self, x):\n",
        "        b, c, h, w = x.shape\n",
        "        return F.unfold(x, (2, 2), stride=2).reshape(b, 4 * c, h // 2, w // 2)\n",
        "\n",
        "    def unsqueeze(self, x):\n",
        "        b, c, h, w = x.shape\n",
        "        return F.fold(x.reshape(b, c, -1), (h * 2, w * 2), (2, 2), stride=2)\n",
        "            \n",
        "    def forward(self, x):\n",
        "        # logdet = torch.zeros(x.shape[0]).to(DEVICE)\n",
        "        # y = x\n",
        "        logdet = self.preprocess(x)\n",
        "        y = self.preprocess.latent(x)\n",
        "        # print(torch.sum(torch.isnan(y)))\n",
        "\n",
        "        for layer in self.couplings1:\n",
        "            logdet += layer(y)\n",
        "            y = layer.latent(y)\n",
        "\n",
        "        y = self.squeeze(y)\n",
        "        \n",
        "        for layer in self.couplings2:\n",
        "            logdet += layer(y)\n",
        "            y = layer.latent(y)\n",
        "        for layer in self.couplings3:\n",
        "            logdet += layer(y)\n",
        "            y = layer.latent(y)\n",
        "\n",
        "        y = self.squeeze(y)\n",
        "        \n",
        "        for layer in self.couplings4:\n",
        "            logdet += layer(y)\n",
        "            y = layer.latent(y)\n",
        "        for layer in self.couplings5:\n",
        "            logdet += layer(y)\n",
        "            y = layer.latent(y)\n",
        "        \n",
        "        logdet = torch.exp(torch.clamp(logdet, min=-MAX_VALUE, max=MAX_VALUE))\n",
        "\n",
        "        return logdet\n",
        "        \n",
        "    def latent(self, x):\n",
        "        # y = x\n",
        "        y = self.preprocess.latent(x)\n",
        "        \n",
        "        for layer in self.couplings1:\n",
        "            y = layer.latent(y)\n",
        "\n",
        "        y = self.squeeze(y)\n",
        "        \n",
        "        for layer in self.couplings2:\n",
        "            y = layer.latent(y)\n",
        "        for layer in self.couplings3:\n",
        "            y = layer.latent(y)\n",
        "\n",
        "        y = self.squeeze(y)\n",
        "        \n",
        "        for layer in self.couplings4:\n",
        "            y = layer.latent(y)\n",
        "        for layer in self.couplings5:\n",
        "            y = layer.latent(y)\n",
        "\n",
        "        y = self.unsqueeze(y)\n",
        "        y = self.unsqueeze(y)\n",
        "        \n",
        "        return y\n",
        "\n",
        "    def inverse(self, y):\n",
        "        x = y\n",
        "        x = self.squeeze(x)\n",
        "        x = self.squeeze(x)\n",
        "        \n",
        "        for layer in reversed(self.couplings5):\n",
        "            x = layer.inverse(x)\n",
        "        for layer in reversed(self.couplings4):\n",
        "            x = layer.inverse(x)\n",
        "            \n",
        "        x = self.unsqueeze(x)\n",
        "        \n",
        "        for layer in reversed(self.couplings3):\n",
        "            x = layer.inverse(x)\n",
        "        for layer in reversed(self.couplings2):\n",
        "            x = layer.inverse(x)\n",
        "            \n",
        "        x = self.unsqueeze(x)\n",
        "        \n",
        "        for layer in reversed(self.couplings1):\n",
        "            x = layer.inverse(x)\n",
        "            \n",
        "        x = self.preprocess.latent(x)\n",
        "\n",
        "        return x\n",
        "\n",
        "    def __call__(self, x):\n",
        "        return self.forward(x)"
      ],
      "execution_count": 0,
      "outputs": []
    },
    {
      "cell_type": "code",
      "metadata": {
        "colab_type": "code",
        "outputId": "b6914e66-29b3-492f-d40f-0cda97cdac05",
        "id": "qBd-rgr7d1QI",
        "colab": {
          "base_uri": "https://localhost:8080/",
          "height": 69
        }
      },
      "source": [
        "wandb.init(entity=\"vadim-farutin\", project=\"HSE-DUL-HW02-3\")\n",
        "wandb.watch_called = False # Re-run the model without restarting the runtime, unnecessary after our next release\n",
        "\n",
        "config = wandb.config\n",
        "config.lr = 5e-4\n",
        "config.batch_size = 64\n",
        "config.epochs = 2"
      ],
      "execution_count": 178,
      "outputs": [
        {
          "output_type": "display_data",
          "data": {
            "text/html": [
              "\n",
              "                Logging results to <a href=\"https://wandb.com\" target=\"_blank\">Weights & Biases</a> <a href=\"https://docs.wandb.com/integrations/jupyter.html\" target=\"_blank\">(Documentation)</a>.<br/>\n",
              "                Project page: <a href=\"https://app.wandb.ai/vadim-farutin/HSE-DUL-HW02-3\" target=\"_blank\">https://app.wandb.ai/vadim-farutin/HSE-DUL-HW02-3</a><br/>\n",
              "                Run page: <a href=\"https://app.wandb.ai/vadim-farutin/HSE-DUL-HW02-3/runs/qvsrok3d\" target=\"_blank\">https://app.wandb.ai/vadim-farutin/HSE-DUL-HW02-3/runs/qvsrok3d</a><br/>\n",
              "            "
            ],
            "text/plain": [
              "<IPython.core.display.HTML object>"
            ]
          },
          "metadata": {
            "tags": []
          }
        }
      ]
    },
    {
      "cell_type": "code",
      "metadata": {
        "id": "RrXAopx7Kbxx",
        "colab_type": "code",
        "colab": {}
      },
      "source": [
        "# from torchsummary import summary\n",
        "# summary(model, (3, 32, 32))"
      ],
      "execution_count": 0,
      "outputs": []
    },
    {
      "cell_type": "code",
      "metadata": {
        "colab_type": "code",
        "id": "IJknelYMd1RS",
        "colab": {}
      },
      "source": [
        "channels, size = 3, (32, 32)\n",
        "model = MyRealNVP(channels, size).float().to(DEVICE)\n",
        "loss_function = MyNLLLoss\n",
        "optimizer = optim.Adam(model.parameters(), lr=config.lr)"
      ],
      "execution_count": 0,
      "outputs": []
    },
    {
      "cell_type": "code",
      "metadata": {
        "colab_type": "code",
        "id": "Y3s-B0i4d1Rb",
        "colab": {}
      },
      "source": [
        "train_loss_values, val_loss_values =\\\n",
        "    fit(model, train, val, optimizer, loss_function, config.epochs, config.batch_size)"
      ],
      "execution_count": 0,
      "outputs": []
    },
    {
      "cell_type": "code",
      "metadata": {
        "scrolled": true,
        "colab_type": "code",
        "id": "PyIau5eBjCa3",
        "outputId": "1654bf07-a554-4d17-e378-718edb6319e0",
        "colab": {
          "base_uri": "https://localhost:8080/",
          "height": 295
        }
      },
      "source": [
        "plot_loss_values(train_loss_values, val_loss_values)"
      ],
      "execution_count": 110,
      "outputs": [
        {
          "output_type": "display_data",
          "data": {
            "image/png": "[encoded data removed]",
            "text/plain": [
              "<Figure size 432x288 with 1 Axes>"
            ]
          },
          "metadata": {
            "tags": []
          }
        }
      ]
    },
    {
      "cell_type": "code",
      "metadata": {
        "id": "lNFzLWXTvXX_",
        "colab_type": "code",
        "colab": {}
      },
      "source": [
        ""
      ],
      "execution_count": 0,
      "outputs": []
    }
  ]
}
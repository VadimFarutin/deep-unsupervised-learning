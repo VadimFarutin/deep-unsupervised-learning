{
  "nbformat": 4,
  "nbformat_minor": 0,
  "metadata": {
    "colab": {
      "name": "HSE_DUL_HW03.ipynb",
      "provenance": [],
      "collapsed_sections": [
        "okcxjqsMkjkB",
        "UL4E0TEoxh3b"
      ],
      "include_colab_link": true
    },
    "kernelspec": {
      "name": "python3",
      "display_name": "Python 3"
    },
    "accelerator": "GPU",
    "widgets": {
      "application/vnd.jupyter.widget-state+json": {
        "71f0fae5ed5d4c618a0ebadac9d89747": {
          "model_module": "@jupyter-widgets/controls",
          "model_name": "HBoxModel",
          "state": {
            "_view_name": "HBoxView",
            "_dom_classes": [],
            "_model_name": "HBoxModel",
            "_view_module": "@jupyter-widgets/controls",
            "_model_module_version": "1.5.0",
            "_view_count": null,
            "_view_module_version": "1.5.0",
            "box_style": "",
            "layout": "IPY_MODEL_7681dd60ba144f44820f2d4285b1669f",
            "_model_module": "@jupyter-widgets/controls",
            "children": [
              "IPY_MODEL_991015d6983545d28d23957ec093b89b",
              "IPY_MODEL_1fb037ea6f0645fd92379beb95d9a538"
            ]
          }
        },
        "7681dd60ba144f44820f2d4285b1669f": {
          "model_module": "@jupyter-widgets/base",
          "model_name": "LayoutModel",
          "state": {
            "_view_name": "LayoutView",
            "grid_template_rows": null,
            "right": null,
            "justify_content": null,
            "_view_module": "@jupyter-widgets/base",
            "overflow": null,
            "_model_module_version": "1.2.0",
            "_view_count": null,
            "flex_flow": null,
            "width": null,
            "min_width": null,
            "border": null,
            "align_items": null,
            "bottom": null,
            "_model_module": "@jupyter-widgets/base",
            "top": null,
            "grid_column": null,
            "overflow_y": null,
            "overflow_x": null,
            "grid_auto_flow": null,
            "grid_area": null,
            "grid_template_columns": null,
            "flex": null,
            "_model_name": "LayoutModel",
            "justify_items": null,
            "grid_row": null,
            "max_height": null,
            "align_content": null,
            "visibility": null,
            "align_self": null,
            "height": null,
            "min_height": null,
            "padding": null,
            "grid_auto_rows": null,
            "grid_gap": null,
            "max_width": null,
            "order": null,
            "_view_module_version": "1.2.0",
            "grid_template_areas": null,
            "object_position": null,
            "object_fit": null,
            "grid_auto_columns": null,
            "margin": null,
            "display": null,
            "left": null
          }
        },
        "991015d6983545d28d23957ec093b89b": {
          "model_module": "@jupyter-widgets/controls",
          "model_name": "IntProgressModel",
          "state": {
            "_view_name": "ProgressView",
            "style": "IPY_MODEL_9942b711e48241dda597b0711648e5c7",
            "_dom_classes": [],
            "description": "Epoch",
            "_model_name": "IntProgressModel",
            "bar_style": "success",
            "max": 10,
            "_view_module": "@jupyter-widgets/controls",
            "_model_module_version": "1.5.0",
            "value": 10,
            "_view_count": null,
            "_view_module_version": "1.5.0",
            "orientation": "horizontal",
            "min": 0,
            "description_tooltip": null,
            "_model_module": "@jupyter-widgets/controls",
            "layout": "IPY_MODEL_794bbcea8ebd49df83fe2dc240ff9a6d"
          }
        },
        "1fb037ea6f0645fd92379beb95d9a538": {
          "model_module": "@jupyter-widgets/controls",
          "model_name": "HTMLModel",
          "state": {
            "_view_name": "HTMLView",
            "style": "IPY_MODEL_57c05c25ccab416b8a41963cc1e1b48a",
            "_dom_classes": [],
            "description": "",
            "_model_name": "HTMLModel",
            "placeholder": "​",
            "_view_module": "@jupyter-widgets/controls",
            "_model_module_version": "1.5.0",
            "value": "100% 10/10 [00:23&lt;00:00,  2.32s/it]",
            "_view_count": null,
            "_view_module_version": "1.5.0",
            "description_tooltip": null,
            "_model_module": "@jupyter-widgets/controls",
            "layout": "IPY_MODEL_bc2777d8c67b4dd09fcc86a1ee21e7aa"
          }
        },
        "9942b711e48241dda597b0711648e5c7": {
          "model_module": "@jupyter-widgets/controls",
          "model_name": "ProgressStyleModel",
          "state": {
            "_view_name": "StyleView",
            "_model_name": "ProgressStyleModel",
            "description_width": "initial",
            "_view_module": "@jupyter-widgets/base",
            "_model_module_version": "1.5.0",
            "_view_count": null,
            "_view_module_version": "1.2.0",
            "bar_color": null,
            "_model_module": "@jupyter-widgets/controls"
          }
        },
        "794bbcea8ebd49df83fe2dc240ff9a6d": {
          "model_module": "@jupyter-widgets/base",
          "model_name": "LayoutModel",
          "state": {
            "_view_name": "LayoutView",
            "grid_template_rows": null,
            "right": null,
            "justify_content": null,
            "_view_module": "@jupyter-widgets/base",
            "overflow": null,
            "_model_module_version": "1.2.0",
            "_view_count": null,
            "flex_flow": null,
            "width": null,
            "min_width": null,
            "border": null,
            "align_items": null,
            "bottom": null,
            "_model_module": "@jupyter-widgets/base",
            "top": null,
            "grid_column": null,
            "overflow_y": null,
            "overflow_x": null,
            "grid_auto_flow": null,
            "grid_area": null,
            "grid_template_columns": null,
            "flex": null,
            "_model_name": "LayoutModel",
            "justify_items": null,
            "grid_row": null,
            "max_height": null,
            "align_content": null,
            "visibility": null,
            "align_self": null,
            "height": null,
            "min_height": null,
            "padding": null,
            "grid_auto_rows": null,
            "grid_gap": null,
            "max_width": null,
            "order": null,
            "_view_module_version": "1.2.0",
            "grid_template_areas": null,
            "object_position": null,
            "object_fit": null,
            "grid_auto_columns": null,
            "margin": null,
            "display": null,
            "left": null
          }
        },
        "57c05c25ccab416b8a41963cc1e1b48a": {
          "model_module": "@jupyter-widgets/controls",
          "model_name": "DescriptionStyleModel",
          "state": {
            "_view_name": "StyleView",
            "_model_name": "DescriptionStyleModel",
            "description_width": "",
            "_view_module": "@jupyter-widgets/base",
            "_model_module_version": "1.5.0",
            "_view_count": null,
            "_view_module_version": "1.2.0",
            "_model_module": "@jupyter-widgets/controls"
          }
        },
        "bc2777d8c67b4dd09fcc86a1ee21e7aa": {
          "model_module": "@jupyter-widgets/base",
          "model_name": "LayoutModel",
          "state": {
            "_view_name": "LayoutView",
            "grid_template_rows": null,
            "right": null,
            "justify_content": null,
            "_view_module": "@jupyter-widgets/base",
            "overflow": null,
            "_model_module_version": "1.2.0",
            "_view_count": null,
            "flex_flow": null,
            "width": null,
            "min_width": null,
            "border": null,
            "align_items": null,
            "bottom": null,
            "_model_module": "@jupyter-widgets/base",
            "top": null,
            "grid_column": null,
            "overflow_y": null,
            "overflow_x": null,
            "grid_auto_flow": null,
            "grid_area": null,
            "grid_template_columns": null,
            "flex": null,
            "_model_name": "LayoutModel",
            "justify_items": null,
            "grid_row": null,
            "max_height": null,
            "align_content": null,
            "visibility": null,
            "align_self": null,
            "height": null,
            "min_height": null,
            "padding": null,
            "grid_auto_rows": null,
            "grid_gap": null,
            "max_width": null,
            "order": null,
            "_view_module_version": "1.2.0",
            "grid_template_areas": null,
            "object_position": null,
            "object_fit": null,
            "grid_auto_columns": null,
            "margin": null,
            "display": null,
            "left": null
          }
        },
        "9aa290aa412745db91464ba4bc096060": {
          "model_module": "@jupyter-widgets/controls",
          "model_name": "HBoxModel",
          "state": {
            "_view_name": "HBoxView",
            "_dom_classes": [],
            "_model_name": "HBoxModel",
            "_view_module": "@jupyter-widgets/controls",
            "_model_module_version": "1.5.0",
            "_view_count": null,
            "_view_module_version": "1.5.0",
            "box_style": "",
            "layout": "IPY_MODEL_c775d6dc2b3e4b009346f17c51788589",
            "_model_module": "@jupyter-widgets/controls",
            "children": [
              "IPY_MODEL_56b93a7b50fd4a93a2706d9190497193",
              "IPY_MODEL_d483470e9f894b5f872effbf5bc108f5"
            ]
          }
        },
        "c775d6dc2b3e4b009346f17c51788589": {
          "model_module": "@jupyter-widgets/base",
          "model_name": "LayoutModel",
          "state": {
            "_view_name": "LayoutView",
            "grid_template_rows": null,
            "right": null,
            "justify_content": null,
            "_view_module": "@jupyter-widgets/base",
            "overflow": null,
            "_model_module_version": "1.2.0",
            "_view_count": null,
            "flex_flow": null,
            "width": null,
            "min_width": null,
            "border": null,
            "align_items": null,
            "bottom": null,
            "_model_module": "@jupyter-widgets/base",
            "top": null,
            "grid_column": null,
            "overflow_y": null,
            "overflow_x": null,
            "grid_auto_flow": null,
            "grid_area": null,
            "grid_template_columns": null,
            "flex": null,
            "_model_name": "LayoutModel",
            "justify_items": null,
            "grid_row": null,
            "max_height": null,
            "align_content": null,
            "visibility": null,
            "align_self": null,
            "height": null,
            "min_height": null,
            "padding": null,
            "grid_auto_rows": null,
            "grid_gap": null,
            "max_width": null,
            "order": null,
            "_view_module_version": "1.2.0",
            "grid_template_areas": null,
            "object_position": null,
            "object_fit": null,
            "grid_auto_columns": null,
            "margin": null,
            "display": null,
            "left": null
          }
        },
        "56b93a7b50fd4a93a2706d9190497193": {
          "model_module": "@jupyter-widgets/controls",
          "model_name": "IntProgressModel",
          "state": {
            "_view_name": "ProgressView",
            "style": "IPY_MODEL_c28a3c9499a54021bb801580b0272eac",
            "_dom_classes": [],
            "description": "Epoch",
            "_model_name": "IntProgressModel",
            "bar_style": "success",
            "max": 10,
            "_view_module": "@jupyter-widgets/controls",
            "_model_module_version": "1.5.0",
            "value": 10,
            "_view_count": null,
            "_view_module_version": "1.5.0",
            "orientation": "horizontal",
            "min": 0,
            "description_tooltip": null,
            "_model_module": "@jupyter-widgets/controls",
            "layout": "IPY_MODEL_010d7c934aaf429ab6e6548949fa8279"
          }
        },
        "d483470e9f894b5f872effbf5bc108f5": {
          "model_module": "@jupyter-widgets/controls",
          "model_name": "HTMLModel",
          "state": {
            "_view_name": "HTMLView",
            "style": "IPY_MODEL_495bd6c8a18e4fd581b96ebb5e485446",
            "_dom_classes": [],
            "description": "",
            "_model_name": "HTMLModel",
            "placeholder": "​",
            "_view_module": "@jupyter-widgets/controls",
            "_model_module_version": "1.5.0",
            "value": "100% 10/10 [00:23&lt;00:00,  2.33s/it]",
            "_view_count": null,
            "_view_module_version": "1.5.0",
            "description_tooltip": null,
            "_model_module": "@jupyter-widgets/controls",
            "layout": "IPY_MODEL_0fc64dfeab1a4326b5131dcf03ceba86"
          }
        },
        "c28a3c9499a54021bb801580b0272eac": {
          "model_module": "@jupyter-widgets/controls",
          "model_name": "ProgressStyleModel",
          "state": {
            "_view_name": "StyleView",
            "_model_name": "ProgressStyleModel",
            "description_width": "initial",
            "_view_module": "@jupyter-widgets/base",
            "_model_module_version": "1.5.0",
            "_view_count": null,
            "_view_module_version": "1.2.0",
            "bar_color": null,
            "_model_module": "@jupyter-widgets/controls"
          }
        },
        "010d7c934aaf429ab6e6548949fa8279": {
          "model_module": "@jupyter-widgets/base",
          "model_name": "LayoutModel",
          "state": {
            "_view_name": "LayoutView",
            "grid_template_rows": null,
            "right": null,
            "justify_content": null,
            "_view_module": "@jupyter-widgets/base",
            "overflow": null,
            "_model_module_version": "1.2.0",
            "_view_count": null,
            "flex_flow": null,
            "width": null,
            "min_width": null,
            "border": null,
            "align_items": null,
            "bottom": null,
            "_model_module": "@jupyter-widgets/base",
            "top": null,
            "grid_column": null,
            "overflow_y": null,
            "overflow_x": null,
            "grid_auto_flow": null,
            "grid_area": null,
            "grid_template_columns": null,
            "flex": null,
            "_model_name": "LayoutModel",
            "justify_items": null,
            "grid_row": null,
            "max_height": null,
            "align_content": null,
            "visibility": null,
            "align_self": null,
            "height": null,
            "min_height": null,
            "padding": null,
            "grid_auto_rows": null,
            "grid_gap": null,
            "max_width": null,
            "order": null,
            "_view_module_version": "1.2.0",
            "grid_template_areas": null,
            "object_position": null,
            "object_fit": null,
            "grid_auto_columns": null,
            "margin": null,
            "display": null,
            "left": null
          }
        },
        "495bd6c8a18e4fd581b96ebb5e485446": {
          "model_module": "@jupyter-widgets/controls",
          "model_name": "DescriptionStyleModel",
          "state": {
            "_view_name": "StyleView",
            "_model_name": "DescriptionStyleModel",
            "description_width": "",
            "_view_module": "@jupyter-widgets/base",
            "_model_module_version": "1.5.0",
            "_view_count": null,
            "_view_module_version": "1.2.0",
            "_model_module": "@jupyter-widgets/controls"
          }
        },
        "0fc64dfeab1a4326b5131dcf03ceba86": {
          "model_module": "@jupyter-widgets/base",
          "model_name": "LayoutModel",
          "state": {
            "_view_name": "LayoutView",
            "grid_template_rows": null,
            "right": null,
            "justify_content": null,
            "_view_module": "@jupyter-widgets/base",
            "overflow": null,
            "_model_module_version": "1.2.0",
            "_view_count": null,
            "flex_flow": null,
            "width": null,
            "min_width": null,
            "border": null,
            "align_items": null,
            "bottom": null,
            "_model_module": "@jupyter-widgets/base",
            "top": null,
            "grid_column": null,
            "overflow_y": null,
            "overflow_x": null,
            "grid_auto_flow": null,
            "grid_area": null,
            "grid_template_columns": null,
            "flex": null,
            "_model_name": "LayoutModel",
            "justify_items": null,
            "grid_row": null,
            "max_height": null,
            "align_content": null,
            "visibility": null,
            "align_self": null,
            "height": null,
            "min_height": null,
            "padding": null,
            "grid_auto_rows": null,
            "grid_gap": null,
            "max_width": null,
            "order": null,
            "_view_module_version": "1.2.0",
            "grid_template_areas": null,
            "object_position": null,
            "object_fit": null,
            "grid_auto_columns": null,
            "margin": null,
            "display": null,
            "left": null
          }
        },
        "4988a9ea4e7e443fade3058fdb362a05": {
          "model_module": "@jupyter-widgets/controls",
          "model_name": "HBoxModel",
          "state": {
            "_view_name": "HBoxView",
            "_dom_classes": [],
            "_model_name": "HBoxModel",
            "_view_module": "@jupyter-widgets/controls",
            "_model_module_version": "1.5.0",
            "_view_count": null,
            "_view_module_version": "1.5.0",
            "box_style": "",
            "layout": "IPY_MODEL_f4dff0d6e8724352aaf4b23b99c2f613",
            "_model_module": "@jupyter-widgets/controls",
            "children": [
              "IPY_MODEL_52ce5a6bb6244af19671ac50984f1743",
              "IPY_MODEL_11c4dd222250423b8fbdd593e24f6010"
            ]
          }
        },
        "f4dff0d6e8724352aaf4b23b99c2f613": {
          "model_module": "@jupyter-widgets/base",
          "model_name": "LayoutModel",
          "state": {
            "_view_name": "LayoutView",
            "grid_template_rows": null,
            "right": null,
            "justify_content": null,
            "_view_module": "@jupyter-widgets/base",
            "overflow": null,
            "_model_module_version": "1.2.0",
            "_view_count": null,
            "flex_flow": null,
            "width": null,
            "min_width": null,
            "border": null,
            "align_items": null,
            "bottom": null,
            "_model_module": "@jupyter-widgets/base",
            "top": null,
            "grid_column": null,
            "overflow_y": null,
            "overflow_x": null,
            "grid_auto_flow": null,
            "grid_area": null,
            "grid_template_columns": null,
            "flex": null,
            "_model_name": "LayoutModel",
            "justify_items": null,
            "grid_row": null,
            "max_height": null,
            "align_content": null,
            "visibility": null,
            "align_self": null,
            "height": null,
            "min_height": null,
            "padding": null,
            "grid_auto_rows": null,
            "grid_gap": null,
            "max_width": null,
            "order": null,
            "_view_module_version": "1.2.0",
            "grid_template_areas": null,
            "object_position": null,
            "object_fit": null,
            "grid_auto_columns": null,
            "margin": null,
            "display": null,
            "left": null
          }
        },
        "52ce5a6bb6244af19671ac50984f1743": {
          "model_module": "@jupyter-widgets/controls",
          "model_name": "IntProgressModel",
          "state": {
            "_view_name": "ProgressView",
            "style": "IPY_MODEL_f01271a49697465f8f3818fa5ca8015f",
            "_dom_classes": [],
            "description": "Epoch",
            "_model_name": "IntProgressModel",
            "bar_style": "success",
            "max": 10,
            "_view_module": "@jupyter-widgets/controls",
            "_model_module_version": "1.5.0",
            "value": 10,
            "_view_count": null,
            "_view_module_version": "1.5.0",
            "orientation": "horizontal",
            "min": 0,
            "description_tooltip": null,
            "_model_module": "@jupyter-widgets/controls",
            "layout": "IPY_MODEL_14549f768245412b8c8ced1d8e7ccfe0"
          }
        },
        "11c4dd222250423b8fbdd593e24f6010": {
          "model_module": "@jupyter-widgets/controls",
          "model_name": "HTMLModel",
          "state": {
            "_view_name": "HTMLView",
            "style": "IPY_MODEL_f9fe6c8d2d3a49c993ce10bd0548a1f0",
            "_dom_classes": [],
            "description": "",
            "_model_name": "HTMLModel",
            "placeholder": "​",
            "_view_module": "@jupyter-widgets/controls",
            "_model_module_version": "1.5.0",
            "value": "100% 10/10 [00:24&lt;00:00,  2.44s/it]",
            "_view_count": null,
            "_view_module_version": "1.5.0",
            "description_tooltip": null,
            "_model_module": "@jupyter-widgets/controls",
            "layout": "IPY_MODEL_3245f58d3a4c497fb960287091a45b2b"
          }
        },
        "f01271a49697465f8f3818fa5ca8015f": {
          "model_module": "@jupyter-widgets/controls",
          "model_name": "ProgressStyleModel",
          "state": {
            "_view_name": "StyleView",
            "_model_name": "ProgressStyleModel",
            "description_width": "initial",
            "_view_module": "@jupyter-widgets/base",
            "_model_module_version": "1.5.0",
            "_view_count": null,
            "_view_module_version": "1.2.0",
            "bar_color": null,
            "_model_module": "@jupyter-widgets/controls"
          }
        },
        "14549f768245412b8c8ced1d8e7ccfe0": {
          "model_module": "@jupyter-widgets/base",
          "model_name": "LayoutModel",
          "state": {
            "_view_name": "LayoutView",
            "grid_template_rows": null,
            "right": null,
            "justify_content": null,
            "_view_module": "@jupyter-widgets/base",
            "overflow": null,
            "_model_module_version": "1.2.0",
            "_view_count": null,
            "flex_flow": null,
            "width": null,
            "min_width": null,
            "border": null,
            "align_items": null,
            "bottom": null,
            "_model_module": "@jupyter-widgets/base",
            "top": null,
            "grid_column": null,
            "overflow_y": null,
            "overflow_x": null,
            "grid_auto_flow": null,
            "grid_area": null,
            "grid_template_columns": null,
            "flex": null,
            "_model_name": "LayoutModel",
            "justify_items": null,
            "grid_row": null,
            "max_height": null,
            "align_content": null,
            "visibility": null,
            "align_self": null,
            "height": null,
            "min_height": null,
            "padding": null,
            "grid_auto_rows": null,
            "grid_gap": null,
            "max_width": null,
            "order": null,
            "_view_module_version": "1.2.0",
            "grid_template_areas": null,
            "object_position": null,
            "object_fit": null,
            "grid_auto_columns": null,
            "margin": null,
            "display": null,
            "left": null
          }
        },
        "f9fe6c8d2d3a49c993ce10bd0548a1f0": {
          "model_module": "@jupyter-widgets/controls",
          "model_name": "DescriptionStyleModel",
          "state": {
            "_view_name": "StyleView",
            "_model_name": "DescriptionStyleModel",
            "description_width": "",
            "_view_module": "@jupyter-widgets/base",
            "_model_module_version": "1.5.0",
            "_view_count": null,
            "_view_module_version": "1.2.0",
            "_model_module": "@jupyter-widgets/controls"
          }
        },
        "3245f58d3a4c497fb960287091a45b2b": {
          "model_module": "@jupyter-widgets/base",
          "model_name": "LayoutModel",
          "state": {
            "_view_name": "LayoutView",
            "grid_template_rows": null,
            "right": null,
            "justify_content": null,
            "_view_module": "@jupyter-widgets/base",
            "overflow": null,
            "_model_module_version": "1.2.0",
            "_view_count": null,
            "flex_flow": null,
            "width": null,
            "min_width": null,
            "border": null,
            "align_items": null,
            "bottom": null,
            "_model_module": "@jupyter-widgets/base",
            "top": null,
            "grid_column": null,
            "overflow_y": null,
            "overflow_x": null,
            "grid_auto_flow": null,
            "grid_area": null,
            "grid_template_columns": null,
            "flex": null,
            "_model_name": "LayoutModel",
            "justify_items": null,
            "grid_row": null,
            "max_height": null,
            "align_content": null,
            "visibility": null,
            "align_self": null,
            "height": null,
            "min_height": null,
            "padding": null,
            "grid_auto_rows": null,
            "grid_gap": null,
            "max_width": null,
            "order": null,
            "_view_module_version": "1.2.0",
            "grid_template_areas": null,
            "object_position": null,
            "object_fit": null,
            "grid_auto_columns": null,
            "margin": null,
            "display": null,
            "left": null
          }
        },
        "c03068f6fdea4b9fb830626082a4e15d": {
          "model_module": "@jupyter-widgets/controls",
          "model_name": "HBoxModel",
          "state": {
            "_view_name": "HBoxView",
            "_dom_classes": [],
            "_model_name": "HBoxModel",
            "_view_module": "@jupyter-widgets/controls",
            "_model_module_version": "1.5.0",
            "_view_count": null,
            "_view_module_version": "1.5.0",
            "box_style": "",
            "layout": "IPY_MODEL_b72e709122a5433ba65913895ce4befb",
            "_model_module": "@jupyter-widgets/controls",
            "children": [
              "IPY_MODEL_3891ce00842149f3a7c8b55edad0ebe0",
              "IPY_MODEL_058822b074214b9486158705367588da"
            ]
          }
        },
        "b72e709122a5433ba65913895ce4befb": {
          "model_module": "@jupyter-widgets/base",
          "model_name": "LayoutModel",
          "state": {
            "_view_name": "LayoutView",
            "grid_template_rows": null,
            "right": null,
            "justify_content": null,
            "_view_module": "@jupyter-widgets/base",
            "overflow": null,
            "_model_module_version": "1.2.0",
            "_view_count": null,
            "flex_flow": null,
            "width": null,
            "min_width": null,
            "border": null,
            "align_items": null,
            "bottom": null,
            "_model_module": "@jupyter-widgets/base",
            "top": null,
            "grid_column": null,
            "overflow_y": null,
            "overflow_x": null,
            "grid_auto_flow": null,
            "grid_area": null,
            "grid_template_columns": null,
            "flex": null,
            "_model_name": "LayoutModel",
            "justify_items": null,
            "grid_row": null,
            "max_height": null,
            "align_content": null,
            "visibility": null,
            "align_self": null,
            "height": null,
            "min_height": null,
            "padding": null,
            "grid_auto_rows": null,
            "grid_gap": null,
            "max_width": null,
            "order": null,
            "_view_module_version": "1.2.0",
            "grid_template_areas": null,
            "object_position": null,
            "object_fit": null,
            "grid_auto_columns": null,
            "margin": null,
            "display": null,
            "left": null
          }
        },
        "3891ce00842149f3a7c8b55edad0ebe0": {
          "model_module": "@jupyter-widgets/controls",
          "model_name": "IntProgressModel",
          "state": {
            "_view_name": "ProgressView",
            "style": "IPY_MODEL_1aeac51ecfff4afaba87f3eaec762464",
            "_dom_classes": [],
            "description": "Epoch",
            "_model_name": "IntProgressModel",
            "bar_style": "success",
            "max": 10,
            "_view_module": "@jupyter-widgets/controls",
            "_model_module_version": "1.5.0",
            "value": 10,
            "_view_count": null,
            "_view_module_version": "1.5.0",
            "orientation": "horizontal",
            "min": 0,
            "description_tooltip": null,
            "_model_module": "@jupyter-widgets/controls",
            "layout": "IPY_MODEL_acedb2ef0ffa47ad9ba059acf22d5918"
          }
        },
        "058822b074214b9486158705367588da": {
          "model_module": "@jupyter-widgets/controls",
          "model_name": "HTMLModel",
          "state": {
            "_view_name": "HTMLView",
            "style": "IPY_MODEL_315babc575f54ef5aa38ac1e4a39f5f8",
            "_dom_classes": [],
            "description": "",
            "_model_name": "HTMLModel",
            "placeholder": "​",
            "_view_module": "@jupyter-widgets/controls",
            "_model_module_version": "1.5.0",
            "value": "100% 10/10 [00:23&lt;00:00,  2.39s/it]",
            "_view_count": null,
            "_view_module_version": "1.5.0",
            "description_tooltip": null,
            "_model_module": "@jupyter-widgets/controls",
            "layout": "IPY_MODEL_49c182976a9746c3972accb9e4e1eee7"
          }
        },
        "1aeac51ecfff4afaba87f3eaec762464": {
          "model_module": "@jupyter-widgets/controls",
          "model_name": "ProgressStyleModel",
          "state": {
            "_view_name": "StyleView",
            "_model_name": "ProgressStyleModel",
            "description_width": "initial",
            "_view_module": "@jupyter-widgets/base",
            "_model_module_version": "1.5.0",
            "_view_count": null,
            "_view_module_version": "1.2.0",
            "bar_color": null,
            "_model_module": "@jupyter-widgets/controls"
          }
        },
        "acedb2ef0ffa47ad9ba059acf22d5918": {
          "model_module": "@jupyter-widgets/base",
          "model_name": "LayoutModel",
          "state": {
            "_view_name": "LayoutView",
            "grid_template_rows": null,
            "right": null,
            "justify_content": null,
            "_view_module": "@jupyter-widgets/base",
            "overflow": null,
            "_model_module_version": "1.2.0",
            "_view_count": null,
            "flex_flow": null,
            "width": null,
            "min_width": null,
            "border": null,
            "align_items": null,
            "bottom": null,
            "_model_module": "@jupyter-widgets/base",
            "top": null,
            "grid_column": null,
            "overflow_y": null,
            "overflow_x": null,
            "grid_auto_flow": null,
            "grid_area": null,
            "grid_template_columns": null,
            "flex": null,
            "_model_name": "LayoutModel",
            "justify_items": null,
            "grid_row": null,
            "max_height": null,
            "align_content": null,
            "visibility": null,
            "align_self": null,
            "height": null,
            "min_height": null,
            "padding": null,
            "grid_auto_rows": null,
            "grid_gap": null,
            "max_width": null,
            "order": null,
            "_view_module_version": "1.2.0",
            "grid_template_areas": null,
            "object_position": null,
            "object_fit": null,
            "grid_auto_columns": null,
            "margin": null,
            "display": null,
            "left": null
          }
        },
        "315babc575f54ef5aa38ac1e4a39f5f8": {
          "model_module": "@jupyter-widgets/controls",
          "model_name": "DescriptionStyleModel",
          "state": {
            "_view_name": "StyleView",
            "_model_name": "DescriptionStyleModel",
            "description_width": "",
            "_view_module": "@jupyter-widgets/base",
            "_model_module_version": "1.5.0",
            "_view_count": null,
            "_view_module_version": "1.2.0",
            "_model_module": "@jupyter-widgets/controls"
          }
        },
        "49c182976a9746c3972accb9e4e1eee7": {
          "model_module": "@jupyter-widgets/base",
          "model_name": "LayoutModel",
          "state": {
            "_view_name": "LayoutView",
            "grid_template_rows": null,
            "right": null,
            "justify_content": null,
            "_view_module": "@jupyter-widgets/base",
            "overflow": null,
            "_model_module_version": "1.2.0",
            "_view_count": null,
            "flex_flow": null,
            "width": null,
            "min_width": null,
            "border": null,
            "align_items": null,
            "bottom": null,
            "_model_module": "@jupyter-widgets/base",
            "top": null,
            "grid_column": null,
            "overflow_y": null,
            "overflow_x": null,
            "grid_auto_flow": null,
            "grid_area": null,
            "grid_template_columns": null,
            "flex": null,
            "_model_name": "LayoutModel",
            "justify_items": null,
            "grid_row": null,
            "max_height": null,
            "align_content": null,
            "visibility": null,
            "align_self": null,
            "height": null,
            "min_height": null,
            "padding": null,
            "grid_auto_rows": null,
            "grid_gap": null,
            "max_width": null,
            "order": null,
            "_view_module_version": "1.2.0",
            "grid_template_areas": null,
            "object_position": null,
            "object_fit": null,
            "grid_auto_columns": null,
            "margin": null,
            "display": null,
            "left": null
          }
        },
        "85ba22abd64e4654992d143892ead7ad": {
          "model_module": "@jupyter-widgets/controls",
          "model_name": "HBoxModel",
          "state": {
            "_view_name": "HBoxView",
            "_dom_classes": [],
            "_model_name": "HBoxModel",
            "_view_module": "@jupyter-widgets/controls",
            "_model_module_version": "1.5.0",
            "_view_count": null,
            "_view_module_version": "1.5.0",
            "box_style": "",
            "layout": "IPY_MODEL_8ea0a92bc6af4aa5aebe5007050a419e",
            "_model_module": "@jupyter-widgets/controls",
            "children": [
              "IPY_MODEL_78f3310c439a455d9d8d0f4b2169fe30",
              "IPY_MODEL_ca0f6de4430c45eba187e762abd06217"
            ]
          }
        },
        "8ea0a92bc6af4aa5aebe5007050a419e": {
          "model_module": "@jupyter-widgets/base",
          "model_name": "LayoutModel",
          "state": {
            "_view_name": "LayoutView",
            "grid_template_rows": null,
            "right": null,
            "justify_content": null,
            "_view_module": "@jupyter-widgets/base",
            "overflow": null,
            "_model_module_version": "1.2.0",
            "_view_count": null,
            "flex_flow": null,
            "width": null,
            "min_width": null,
            "border": null,
            "align_items": null,
            "bottom": null,
            "_model_module": "@jupyter-widgets/base",
            "top": null,
            "grid_column": null,
            "overflow_y": null,
            "overflow_x": null,
            "grid_auto_flow": null,
            "grid_area": null,
            "grid_template_columns": null,
            "flex": null,
            "_model_name": "LayoutModel",
            "justify_items": null,
            "grid_row": null,
            "max_height": null,
            "align_content": null,
            "visibility": null,
            "align_self": null,
            "height": null,
            "min_height": null,
            "padding": null,
            "grid_auto_rows": null,
            "grid_gap": null,
            "max_width": null,
            "order": null,
            "_view_module_version": "1.2.0",
            "grid_template_areas": null,
            "object_position": null,
            "object_fit": null,
            "grid_auto_columns": null,
            "margin": null,
            "display": null,
            "left": null
          }
        },
        "78f3310c439a455d9d8d0f4b2169fe30": {
          "model_module": "@jupyter-widgets/controls",
          "model_name": "IntProgressModel",
          "state": {
            "_view_name": "ProgressView",
            "style": "IPY_MODEL_b5f1edfae0d545cf9f666fda8e58cce4",
            "_dom_classes": [],
            "description": "Epoch",
            "_model_name": "IntProgressModel",
            "bar_style": "success",
            "max": 900,
            "_view_module": "@jupyter-widgets/controls",
            "_model_module_version": "1.5.0",
            "value": 900,
            "_view_count": null,
            "_view_module_version": "1.5.0",
            "orientation": "horizontal",
            "min": 0,
            "description_tooltip": null,
            "_model_module": "@jupyter-widgets/controls",
            "layout": "IPY_MODEL_3a1881beebdc462b9f74a30dcaa0524b"
          }
        },
        "ca0f6de4430c45eba187e762abd06217": {
          "model_module": "@jupyter-widgets/controls",
          "model_name": "HTMLModel",
          "state": {
            "_view_name": "HTMLView",
            "style": "IPY_MODEL_196c0ad34c284ffeac28f41614ccb64f",
            "_dom_classes": [],
            "description": "",
            "_model_name": "HTMLModel",
            "placeholder": "​",
            "_view_module": "@jupyter-widgets/controls",
            "_model_module_version": "1.5.0",
            "value": "100% 900/900 [36:23&lt;00:00,  2.44s/it]",
            "_view_count": null,
            "_view_module_version": "1.5.0",
            "description_tooltip": null,
            "_model_module": "@jupyter-widgets/controls",
            "layout": "IPY_MODEL_c063bf06d4a540a285d469d934ffda51"
          }
        },
        "b5f1edfae0d545cf9f666fda8e58cce4": {
          "model_module": "@jupyter-widgets/controls",
          "model_name": "ProgressStyleModel",
          "state": {
            "_view_name": "StyleView",
            "_model_name": "ProgressStyleModel",
            "description_width": "initial",
            "_view_module": "@jupyter-widgets/base",
            "_model_module_version": "1.5.0",
            "_view_count": null,
            "_view_module_version": "1.2.0",
            "bar_color": null,
            "_model_module": "@jupyter-widgets/controls"
          }
        },
        "3a1881beebdc462b9f74a30dcaa0524b": {
          "model_module": "@jupyter-widgets/base",
          "model_name": "LayoutModel",
          "state": {
            "_view_name": "LayoutView",
            "grid_template_rows": null,
            "right": null,
            "justify_content": null,
            "_view_module": "@jupyter-widgets/base",
            "overflow": null,
            "_model_module_version": "1.2.0",
            "_view_count": null,
            "flex_flow": null,
            "width": null,
            "min_width": null,
            "border": null,
            "align_items": null,
            "bottom": null,
            "_model_module": "@jupyter-widgets/base",
            "top": null,
            "grid_column": null,
            "overflow_y": null,
            "overflow_x": null,
            "grid_auto_flow": null,
            "grid_area": null,
            "grid_template_columns": null,
            "flex": null,
            "_model_name": "LayoutModel",
            "justify_items": null,
            "grid_row": null,
            "max_height": null,
            "align_content": null,
            "visibility": null,
            "align_self": null,
            "height": null,
            "min_height": null,
            "padding": null,
            "grid_auto_rows": null,
            "grid_gap": null,
            "max_width": null,
            "order": null,
            "_view_module_version": "1.2.0",
            "grid_template_areas": null,
            "object_position": null,
            "object_fit": null,
            "grid_auto_columns": null,
            "margin": null,
            "display": null,
            "left": null
          }
        },
        "196c0ad34c284ffeac28f41614ccb64f": {
          "model_module": "@jupyter-widgets/controls",
          "model_name": "DescriptionStyleModel",
          "state": {
            "_view_name": "StyleView",
            "_model_name": "DescriptionStyleModel",
            "description_width": "",
            "_view_module": "@jupyter-widgets/base",
            "_model_module_version": "1.5.0",
            "_view_count": null,
            "_view_module_version": "1.2.0",
            "_model_module": "@jupyter-widgets/controls"
          }
        },
        "c063bf06d4a540a285d469d934ffda51": {
          "model_module": "@jupyter-widgets/base",
          "model_name": "LayoutModel",
          "state": {
            "_view_name": "LayoutView",
            "grid_template_rows": null,
            "right": null,
            "justify_content": null,
            "_view_module": "@jupyter-widgets/base",
            "overflow": null,
            "_model_module_version": "1.2.0",
            "_view_count": null,
            "flex_flow": null,
            "width": null,
            "min_width": null,
            "border": null,
            "align_items": null,
            "bottom": null,
            "_model_module": "@jupyter-widgets/base",
            "top": null,
            "grid_column": null,
            "overflow_y": null,
            "overflow_x": null,
            "grid_auto_flow": null,
            "grid_area": null,
            "grid_template_columns": null,
            "flex": null,
            "_model_name": "LayoutModel",
            "justify_items": null,
            "grid_row": null,
            "max_height": null,
            "align_content": null,
            "visibility": null,
            "align_self": null,
            "height": null,
            "min_height": null,
            "padding": null,
            "grid_auto_rows": null,
            "grid_gap": null,
            "max_width": null,
            "order": null,
            "_view_module_version": "1.2.0",
            "grid_template_areas": null,
            "object_position": null,
            "object_fit": null,
            "grid_auto_columns": null,
            "margin": null,
            "display": null,
            "left": null
          }
        }
      }
    }
  },
  "cells": [
    {
      "cell_type": "markdown",
      "metadata": {
        "id": "view-in-github",
        "colab_type": "text"
      },
      "source": [
        "<a href=\"https://colab.research.google.com/github/VadimFarutin/deep-unsupervised-learning/blob/hw03/hw03_1.ipynb\" target=\"_parent\"><img src=\"https://colab.research.google.com/assets/colab-badge.svg\" alt=\"Open In Colab\"/></a>"
      ]
    },
    {
      "cell_type": "markdown",
      "metadata": {
        "id": "kJqNPVBJroKY",
        "colab_type": "text"
      },
      "source": [
        "# HW03"
      ]
    },
    {
      "cell_type": "markdown",
      "metadata": {
        "id": "SrQu_IAartq0",
        "colab_type": "text"
      },
      "source": [
        "## 1 VAEs in 2D"
      ]
    },
    {
      "cell_type": "markdown",
      "metadata": {
        "id": "okcxjqsMkjkB",
        "colab_type": "text"
      },
      "source": [
        "### Imports and common code"
      ]
    },
    {
      "cell_type": "code",
      "metadata": {
        "id": "AfYk_JjWsim4",
        "colab_type": "code",
        "colab": {}
      },
      "source": [
        "%%capture\n",
        "!pip install graphql-core==2.0\n",
        "!pip install wandb -q"
      ],
      "execution_count": 0,
      "outputs": []
    },
    {
      "cell_type": "code",
      "metadata": {
        "id": "Mx6pvu3gspLN",
        "colab_type": "code",
        "colab": {}
      },
      "source": [
        "import wandb\n",
        "!wandb login"
      ],
      "execution_count": 0,
      "outputs": []
    },
    {
      "cell_type": "code",
      "metadata": {
        "id": "-GdLTPv3xdKi",
        "colab_type": "code",
        "colab": {}
      },
      "source": [
        "from collections import defaultdict\n",
        "from tqdm import tnrange, tqdm_notebook\n",
        "from tqdm.auto import tqdm\n",
        "from sklearn.model_selection import train_test_split\n",
        "import numpy as np\n",
        "from matplotlib import pyplot as plt\n",
        "import matplotlib.gridspec as gridspec\n",
        "import random\n",
        "import pickle\n",
        "\n",
        "import torch\n",
        "import torch.nn as nn\n",
        "import torch.nn.utils as utils\n",
        "from torch.nn.modules import loss\n",
        "import torch.nn.functional as F\n",
        "import torch.optim as optim\n",
        "from torch.utils.data.dataset import Dataset\n",
        "from torch.nn.utils.rnn import pad_sequence\n",
        "from torch.distributions import Normal, Uniform, MultivariateNormal"
      ],
      "execution_count": 0,
      "outputs": []
    },
    {
      "cell_type": "code",
      "metadata": {
        "id": "UnFSXUV3xdK0",
        "colab_type": "code",
        "colab": {}
      },
      "source": [
        "SEED = 42\n",
        "torch.manual_seed(SEED)\n",
        "torch.cuda.manual_seed_all(SEED)\n",
        "random.seed(SEED)\n",
        "np.random.seed(SEED)"
      ],
      "execution_count": 0,
      "outputs": []
    },
    {
      "cell_type": "code",
      "metadata": {
        "id": "SScqRwFfyRlx",
        "colab_type": "code",
        "colab": {}
      },
      "source": [
        "EPS = 1e-9"
      ],
      "execution_count": 0,
      "outputs": []
    },
    {
      "cell_type": "code",
      "metadata": {
        "id": "th_KCfdCxdLC",
        "colab_type": "code",
        "outputId": "57ce0dd7-5d59-4b05-e4be-5b61384593d9",
        "colab": {
          "base_uri": "https://localhost:8080/",
          "height": 35
        }
      },
      "source": [
        "DEVICE = torch.device('cuda' if torch.cuda.is_available() else 'cpu')\n",
        "# DEVICE = torch.device('cpu')\n",
        "print(DEVICE)"
      ],
      "execution_count": 4,
      "outputs": [
        {
          "output_type": "stream",
          "text": [
            "cuda\n"
          ],
          "name": "stdout"
        }
      ]
    },
    {
      "cell_type": "code",
      "metadata": {
        "id": "gQAiBChL3h3q",
        "colab_type": "code",
        "outputId": "12055f76-a22c-4406-a67f-33e397cab9d7",
        "colab": {
          "base_uri": "https://localhost:8080/",
          "height": 128
        }
      },
      "source": [
        "from google.colab import drive\n",
        "drive.mount('/content/drive')"
      ],
      "execution_count": 0,
      "outputs": [
        {
          "output_type": "stream",
          "text": [
            "Go to this URL in a browser: https://accounts.google.com/o/oauth2/auth?client_id=947318989803-6bn6qk8qdgf4n4g3pfee6491hc0brc4i.apps.googleusercontent.com&redirect_uri=urn%3aietf%3awg%3aoauth%3a2.0%3aoob&response_type=code&scope=email%20https%3a%2f%2fwww.googleapis.com%2fauth%2fdocs.test%20https%3a%2f%2fwww.googleapis.com%2fauth%2fdrive%20https%3a%2f%2fwww.googleapis.com%2fauth%2fdrive.photos.readonly%20https%3a%2f%2fwww.googleapis.com%2fauth%2fpeopleapi.readonly\n",
            "\n",
            "Enter your authorization code:\n",
            "··········\n",
            "Mounted at /content/drive\n"
          ],
          "name": "stdout"
        }
      ]
    },
    {
      "cell_type": "code",
      "metadata": {
        "id": "NVme0550TOcV",
        "colab_type": "code",
        "colab": {}
      },
      "source": [
        "def MyVAELosses(x, mu_x, var_x, mu_z, var_z):\n",
        "    nll = -torch.sum(-0.5 * (torch.log(2 * np.pi * var_x) + torch.pow(x - mu_x, 2) / var_x), dim=1, keepdim=True)\n",
        "    kl_div = -0.5 * torch.sum(1.0 + torch.log(var_z) - torch.pow(mu_z, 2) - var_z, dim=1, keepdim=True)\n",
        "\n",
        "    return torch.mean(kl_div + nll), torch.mean(kl_div), torch.mean(nll) / 2.0"
      ],
      "execution_count": 0,
      "outputs": []
    },
    {
      "cell_type": "code",
      "metadata": {
        "id": "6xw73WgmxdNT",
        "colab_type": "code",
        "colab": {}
      },
      "source": [
        "def fit(model, train, val, test, optimizer1, optimizer2, loss_function, epoch_cnt, batch_size):\n",
        "    train_loader = torch.utils.data.DataLoader(torch.from_numpy(train), batch_size=batch_size, shuffle=True)\n",
        "    val_loader = torch.utils.data.DataLoader(torch.from_numpy(val), batch_size=batch_size)\n",
        "    test_loader = torch.utils.data.DataLoader(torch.from_numpy(test), batch_size=batch_size)\n",
        "    train_loss_values = []\n",
        "    val_loss_values = []\n",
        "            \n",
        "    for epoch in tnrange(epoch_cnt, desc='Epoch'):\n",
        "        model.train()\n",
        "        for batch_data in train_loader:\n",
        "            x = batch_data.float().to(DEVICE)\n",
        "            optimizer1.zero_grad()\n",
        "            optimizer2.zero_grad()\n",
        "            mu_x, var_x, mu_z, var_z = model(x)\n",
        "            loss, kl_div, nll = loss_function(x, mu_x, var_x, mu_z, var_z)\n",
        "            loss.backward()\n",
        "            optimizer1.step()\n",
        "            optimizer2.step()\n",
        "            train_loss_values.append([loss.item(), kl_div.item(), nll.item()])\n",
        "\n",
        "        loss_values = []\n",
        "        model.eval()\n",
        "        for batch_data in val_loader:\n",
        "            x = batch_data.float().to(DEVICE)\n",
        "            mu_x, var_x, mu_z, var_z = model(x)\n",
        "            loss, kl_div, nll = loss_function(x, mu_x, var_x, mu_z, var_z)\n",
        "            loss_values.append([loss.item(), kl_div.item(), nll.item()])\n",
        "        val_loss_values.append(np.mean(np.array(loss_values), axis=0))\n",
        "    \n",
        "    loss_values = []\n",
        "    model.eval()\n",
        "    for batch_data in test_loader:\n",
        "        x = batch_data.float().to(DEVICE)\n",
        "        mu_x, var_x, mu_z, var_z = model(x)\n",
        "        loss, kl_div, nll = loss_function(x, mu_x, var_x, mu_z, var_z)\n",
        "        loss_values.append([loss.item(), kl_div.item(), nll.item()])\n",
        "\n",
        "    print(\"Test set loss: \", np.mean(np.array(loss_values), axis=0))\n",
        "\n",
        "    return np.array(train_loss_values), np.array(val_loss_values) \n"
      ],
      "execution_count": 0,
      "outputs": []
    },
    {
      "cell_type": "code",
      "metadata": {
        "id": "vsH8OQi0xdNy",
        "colab_type": "code",
        "colab": {}
      },
      "source": [
        "def plot_loss_values(train_loss_values, val_loss_values, ax, title):\n",
        "    ax.plot(np.arange(len(train_loss_values)), train_loss_values, color='blue', label='train')\n",
        "    ax.plot(np.arange(0, len(train_loss_values), len(train_loss_values) / epochs), val_loss_values, color='red', label='validation')\n",
        "    ax.legend()\n",
        "    ax.set_title(title)\n",
        "    ax.set_xlabel(\"iteration\")\n",
        "    ax.set_ylabel(title)\n",
        "\n",
        "def plot_samples(decoder, n, ax):\n",
        "    z = torch.randn([n, 2]).to(DEVICE)\n",
        "    mu_x, var_x = decoder(z)\n",
        "    x = mu_x + torch.randn([n, 2]).to(DEVICE) * torch.sqrt(var_x)\n",
        "\n",
        "    x = x.cpu().data.numpy()\n",
        "    mu_x = mu_x.cpu().data.numpy()\n",
        "    \n",
        "    ax.scatter(x[:, 0], x[:, 1], marker='.', label='Full generation path')\n",
        "    ax.scatter(mu_x[:, 0], mu_x[:, 1], marker='.', label='Without decoder noise')\n",
        "\n",
        "def plot_losses_and_samples(train_loss_values, val_loss_values, decoder, n):\n",
        "    fig = plt.figure(figsize=(7, 7))\n",
        "    gs = gridspec.GridSpec(2, 2)\n",
        "\n",
        "    plot_loss_values(train_loss_values[:, 0], val_loss_values[:, 0], plt.subplot(gs[0]), \"Loss\")\n",
        "    plot_loss_values(train_loss_values[:, 1], val_loss_values[:, 1], plt.subplot(gs[1]), \"KL\")\n",
        "    plot_loss_values(train_loss_values[:, 2], val_loss_values[:, 2], plt.subplot(gs[2]), \"Decoder\")\n",
        "    plot_samples(decoder, n, plt.subplot(gs[3]))\n"
      ],
      "execution_count": 0,
      "outputs": []
    },
    {
      "cell_type": "markdown",
      "metadata": {
        "id": "UL4E0TEoxh3b",
        "colab_type": "text"
      },
      "source": [
        "## 1.1 Part A"
      ]
    },
    {
      "cell_type": "code",
      "metadata": {
        "id": "iiEtvxmHygAw",
        "colab_type": "code",
        "colab": {}
      },
      "source": [
        "def sample_data_1():\n",
        "    count = 100000\n",
        "    rand = np.random.RandomState(0)\n",
        "    return [[1.0, 2.0]] + rand.randn(count, 2) * [[5.0, 1.0]]\n",
        "\n",
        "def sample_data_2():\n",
        "    count = 100000\n",
        "    rand = np.random.RandomState(0)\n",
        "    return [[1.0, 2.0]] + (rand.randn(count, 2) * [[5.0, 1.0]]).dot([[np.sqrt(2) / 2, np.sqrt(2) / 2], [-np.sqrt(2) / 2, np.sqrt(2) / 2]])\n"
      ],
      "execution_count": 0,
      "outputs": []
    },
    {
      "cell_type": "code",
      "metadata": {
        "id": "NtK0WB0s0FO-",
        "colab_type": "code",
        "colab": {
          "base_uri": "https://localhost:8080/",
          "height": 35
        },
        "outputId": "13daf0c8-6647-4ca0-843c-f6b24981c6b2"
      },
      "source": [
        "X1 = sample_data_1()\n",
        "X2 = sample_data_2()\n",
        "X1_train, X1_test = train_test_split(X1, test_size=0.2)\n",
        "X1_train, X1_val = train_test_split(X1_train, test_size=0.125)\n",
        "X2_train, X2_test = train_test_split(X2, test_size=0.2)\n",
        "X2_train, X2_val = train_test_split(X2_train, test_size=0.125)\n",
        "\n",
        "print(X1_train.shape, X1_val.shape, X1_test.shape)\n"
      ],
      "execution_count": 206,
      "outputs": [
        {
          "output_type": "stream",
          "text": [
            "(70000, 2) (10000, 2) (20000, 2)\n"
          ],
          "name": "stdout"
        }
      ]
    },
    {
      "cell_type": "code",
      "metadata": {
        "id": "sHosu3By5hJv",
        "colab_type": "code",
        "colab": {}
      },
      "source": [
        "class Encoder(nn.Module):\n",
        "    def __init__(self, hidden_size=128):\n",
        "        super(Encoder, self).__init__()\n",
        "\n",
        "        self.layers = nn.Sequential(nn.Linear(2, hidden_size),\n",
        "                                    nn.ReLU(),\n",
        "                                    nn.Linear(hidden_size, hidden_size),\n",
        "                                    nn.ReLU(),\n",
        "                                    nn.Linear(hidden_size, 4))\n",
        "            \n",
        "    def forward(self, x):\n",
        "        out = self.layers(x)\n",
        "        mu, log_var = torch.split(out, 2, dim=1)\n",
        "\n",
        "        return mu, torch.exp(log_var)\n",
        "\n",
        "    def __call__(self, x):\n",
        "        return self.forward(x)"
      ],
      "execution_count": 0,
      "outputs": []
    },
    {
      "cell_type": "code",
      "metadata": {
        "id": "z5_43rXkNJDL",
        "colab_type": "code",
        "colab": {}
      },
      "source": [
        "class Decoder1(nn.Module):\n",
        "    def __init__(self, hidden_size=128):\n",
        "        super(Decoder1, self).__init__()\n",
        "\n",
        "        self.layers = nn.Sequential(nn.Linear(2, hidden_size),\n",
        "                                    nn.ReLU(),\n",
        "                                    nn.Linear(hidden_size, hidden_size),\n",
        "                                    nn.ReLU(),\n",
        "                                    nn.Linear(hidden_size, 4))\n",
        "            \n",
        "    def forward(self, x):\n",
        "        out = self.layers(x)\n",
        "        mu, log_var = torch.split(out, 2, dim=1)\n",
        "\n",
        "        return mu, torch.exp(log_var)\n",
        "\n",
        "    def __call__(self, x):\n",
        "        return self.forward(x)"
      ],
      "execution_count": 0,
      "outputs": []
    },
    {
      "cell_type": "code",
      "metadata": {
        "id": "QzMgGaDe_NBw",
        "colab_type": "code",
        "colab": {}
      },
      "source": [
        "class Decoder2(nn.Module):\n",
        "    def __init__(self, hidden_size=128):\n",
        "        super(Decoder2, self).__init__()\n",
        "       \n",
        "        self.layers = nn.Sequential(nn.Linear(2, hidden_size),\n",
        "                                    nn.ReLU(),\n",
        "                                    nn.Linear(hidden_size, hidden_size),\n",
        "                                    nn.ReLU(),\n",
        "                                    nn.Linear(hidden_size, 3))\n",
        "            \n",
        "    def forward(self, x):\n",
        "        out = self.layers(x)\n",
        "        mu, log_var = torch.split(out, 2, dim=1)\n",
        "        var = torch.exp(log_var * torch.ones([1, 2]).to(DEVICE))\n",
        "\n",
        "        return mu, var\n",
        "\n",
        "    def __call__(self, x):\n",
        "        return self.forward(x)"
      ],
      "execution_count": 0,
      "outputs": []
    },
    {
      "cell_type": "code",
      "metadata": {
        "id": "kHKZ9wnVNgnj",
        "colab_type": "code",
        "colab": {}
      },
      "source": [
        "class VAE(nn.Module):\n",
        "    def __init__(self, encoder, decoder):\n",
        "        super(VAE, self).__init__()\n",
        "       \n",
        "        self.encoder = encoder\n",
        "        self.decoder = decoder\n",
        "            \n",
        "    def forward(self, x):\n",
        "        mu_z, var_z = encoder(x)\n",
        "        z = mu_z + torch.randn(x.shape).to(DEVICE) * torch.sqrt(var_z)\n",
        "        mu_x, var_x = decoder(z)\n",
        "\n",
        "        return mu_x, var_x, mu_z, var_z\n",
        "\n",
        "\n",
        "    def __call__(self, x):\n",
        "        return self.forward(x)"
      ],
      "execution_count": 0,
      "outputs": []
    },
    {
      "cell_type": "code",
      "metadata": {
        "id": "Cm486oUxgGE0",
        "colab_type": "code",
        "colab": {}
      },
      "source": [
        "hidden_size = 128\n",
        "lr = 1e-3\n",
        "batch_size = 128\n",
        "epochs = 10\n",
        "n_samples = 10000"
      ],
      "execution_count": 0,
      "outputs": []
    },
    {
      "cell_type": "code",
      "metadata": {
        "id": "jtb86hOf_R6H",
        "colab_type": "code",
        "colab": {
          "base_uri": "https://localhost:8080/",
          "height": 85,
          "referenced_widgets": [
            "71f0fae5ed5d4c618a0ebadac9d89747",
            "7681dd60ba144f44820f2d4285b1669f",
            "991015d6983545d28d23957ec093b89b",
            "1fb037ea6f0645fd92379beb95d9a538",
            "9942b711e48241dda597b0711648e5c7",
            "794bbcea8ebd49df83fe2dc240ff9a6d",
            "57c05c25ccab416b8a41963cc1e1b48a",
            "bc2777d8c67b4dd09fcc86a1ee21e7aa"
          ]
        },
        "outputId": "05520577-23c9-414a-a72e-27648965acf8"
      },
      "source": [
        "encoder, decoder = Encoder(hidden_size=hidden_size), Decoder1(hidden_size=hidden_size)\n",
        "model = VAE(encoder, decoder).float().to(DEVICE)\n",
        "loss_function = MyVAELosses\n",
        "optimizer1, optimizer2 = optim.Adam(encoder.parameters(), lr=lr), optim.Adam(decoder.parameters(), lr=lr)\n",
        "\n",
        "train_loss_values, val_loss_values =\\\n",
        "    fit(model, X1_train, X1_val, X1_test, optimizer1, optimizer2, loss_function, epochs, batch_size)"
      ],
      "execution_count": 172,
      "outputs": [
        {
          "output_type": "display_data",
          "data": {
            "application/vnd.jupyter.widget-view+json": {
              "model_id": "71f0fae5ed5d4c618a0ebadac9d89747",
              "version_minor": 0,
              "version_major": 2
            },
            "text/plain": [
              "HBox(children=(IntProgress(value=0, description='Epoch', max=10, style=ProgressStyle(description_width='initia…"
            ]
          },
          "metadata": {
            "tags": []
          }
        },
        {
          "output_type": "stream",
          "text": [
            "\n",
            "Test set loss:  [4.44404249e+00 1.54236319e-03 2.22125006e+00]\n"
          ],
          "name": "stdout"
        }
      ]
    },
    {
      "cell_type": "code",
      "metadata": {
        "id": "wnkWGAYEDP-c",
        "colab_type": "code",
        "colab": {
          "base_uri": "https://localhost:8080/",
          "height": 458
        },
        "outputId": "483ff194-8a19-4968-8b97-d1b2166a3bcd"
      },
      "source": [
        "plot_losses_and_samples(train_loss_values, val_loss_values, decoder, n_samples)"
      ],
      "execution_count": 173,
      "outputs": [
        {
          "output_type": "display_data",
          "data": {
            "image/png": "[encoded data removed]",
            "text/plain": [
              "<Figure size 504x504 with 4 Axes>"
            ]
          },
          "metadata": {
            "tags": []
          }
        }
      ]
    },
    {
      "cell_type": "code",
      "metadata": {
        "colab_type": "code",
        "outputId": "586c1ffe-4355-4454-b96f-ff5486858331",
        "id": "MWfSKNZKlfXq",
        "colab": {
          "base_uri": "https://localhost:8080/",
          "height": 85,
          "referenced_widgets": [
            "9aa290aa412745db91464ba4bc096060",
            "c775d6dc2b3e4b009346f17c51788589",
            "56b93a7b50fd4a93a2706d9190497193",
            "d483470e9f894b5f872effbf5bc108f5",
            "c28a3c9499a54021bb801580b0272eac",
            "010d7c934aaf429ab6e6548949fa8279",
            "495bd6c8a18e4fd581b96ebb5e485446",
            "0fc64dfeab1a4326b5131dcf03ceba86"
          ]
        }
      },
      "source": [
        "encoder, decoder = Encoder(hidden_size=hidden_size), Decoder1(hidden_size=hidden_size)\n",
        "model = VAE(encoder, decoder).float().to(DEVICE)\n",
        "loss_function = MyVAELosses\n",
        "optimizer1, optimizer2 = optim.Adam(encoder.parameters(), lr=lr), optim.Adam(decoder.parameters(), lr=lr)\n",
        "\n",
        "train_loss_values, val_loss_values =\\\n",
        "    fit(model, X2_train, X2_val, X2_test, optimizer1, optimizer2, loss_function, epochs, batch_size)"
      ],
      "execution_count": 197,
      "outputs": [
        {
          "output_type": "display_data",
          "data": {
            "application/vnd.jupyter.widget-view+json": {
              "model_id": "9aa290aa412745db91464ba4bc096060",
              "version_minor": 0,
              "version_major": 2
            },
            "text/plain": [
              "HBox(children=(IntProgress(value=0, description='Epoch', max=10, style=ProgressStyle(description_width='initia…"
            ]
          },
          "metadata": {
            "tags": []
          }
        },
        {
          "output_type": "stream",
          "text": [
            "\n",
            "Test set loss:  [4.4802326  1.55499981 1.46261639]\n"
          ],
          "name": "stdout"
        }
      ]
    },
    {
      "cell_type": "code",
      "metadata": {
        "colab_type": "code",
        "outputId": "ae49677f-2dca-47c2-e5bd-92ac11570e96",
        "id": "y_O-4oG2lfXy",
        "colab": {
          "base_uri": "https://localhost:8080/",
          "height": 458
        }
      },
      "source": [
        "plot_losses_and_samples(train_loss_values, val_loss_values, decoder, n_samples)"
      ],
      "execution_count": 198,
      "outputs": [
        {
          "output_type": "display_data",
          "data": {
            "image/png": "[encoded data removed]",
            "text/plain": [
              "<Figure size 504x504 with 4 Axes>"
            ]
          },
          "metadata": {
            "tags": []
          }
        }
      ]
    },
    {
      "cell_type": "code",
      "metadata": {
        "colab_type": "code",
        "outputId": "e122cb90-6921-4b2e-cc86-e3dee0957a2c",
        "id": "IGMFtNxnle-r",
        "colab": {
          "base_uri": "https://localhost:8080/",
          "height": 85,
          "referenced_widgets": [
            "4988a9ea4e7e443fade3058fdb362a05",
            "f4dff0d6e8724352aaf4b23b99c2f613",
            "52ce5a6bb6244af19671ac50984f1743",
            "11c4dd222250423b8fbdd593e24f6010",
            "f01271a49697465f8f3818fa5ca8015f",
            "14549f768245412b8c8ced1d8e7ccfe0",
            "f9fe6c8d2d3a49c993ce10bd0548a1f0",
            "3245f58d3a4c497fb960287091a45b2b"
          ]
        }
      },
      "source": [
        "encoder, decoder = Encoder(hidden_size=hidden_size), Decoder2(hidden_size=hidden_size)\n",
        "model = VAE(encoder, decoder).float().to(DEVICE)\n",
        "loss_function = MyVAELosses\n",
        "optimizer1, optimizer2 = optim.Adam(encoder.parameters(), lr=lr), optim.Adam(decoder.parameters(), lr=lr)\n",
        "\n",
        "train_loss_values, val_loss_values =\\\n",
        "    fit(model, X1_train, X1_val, X1_test, optimizer1, optimizer2, loss_function, epochs, batch_size)"
      ],
      "execution_count": 203,
      "outputs": [
        {
          "output_type": "display_data",
          "data": {
            "application/vnd.jupyter.widget-view+json": {
              "model_id": "4988a9ea4e7e443fade3058fdb362a05",
              "version_minor": 0,
              "version_major": 2
            },
            "text/plain": [
              "HBox(children=(IntProgress(value=0, description='Epoch', max=10, style=ProgressStyle(description_width='initia…"
            ]
          },
          "metadata": {
            "tags": []
          }
        },
        {
          "output_type": "stream",
          "text": [
            "\n",
            "Test set loss:  [4.4647827  1.6255816  1.41960054]\n"
          ],
          "name": "stdout"
        }
      ]
    },
    {
      "cell_type": "code",
      "metadata": {
        "colab_type": "code",
        "outputId": "c8324ad1-7246-4c4f-c466-222d194a7574",
        "id": "Xki_CfFHle-0",
        "colab": {
          "base_uri": "https://localhost:8080/",
          "height": 458
        }
      },
      "source": [
        "plot_losses_and_samples(train_loss_values, val_loss_values, decoder, n_samples)"
      ],
      "execution_count": 204,
      "outputs": [
        {
          "output_type": "display_data",
          "data": {
            "image/png": "[encoded data removed]",
            "text/plain": [
              "<Figure size 504x504 with 4 Axes>"
            ]
          },
          "metadata": {
            "tags": []
          }
        }
      ]
    },
    {
      "cell_type": "code",
      "metadata": {
        "colab_type": "code",
        "outputId": "f9988f16-1252-465c-a2fb-9f998dfb9657",
        "id": "39azlX_XleGr",
        "colab": {
          "base_uri": "https://localhost:8080/",
          "height": 85,
          "referenced_widgets": [
            "c03068f6fdea4b9fb830626082a4e15d",
            "b72e709122a5433ba65913895ce4befb",
            "3891ce00842149f3a7c8b55edad0ebe0",
            "058822b074214b9486158705367588da",
            "1aeac51ecfff4afaba87f3eaec762464",
            "acedb2ef0ffa47ad9ba059acf22d5918",
            "315babc575f54ef5aa38ac1e4a39f5f8",
            "49c182976a9746c3972accb9e4e1eee7"
          ]
        }
      },
      "source": [
        "encoder, decoder = Encoder(hidden_size=hidden_size), Decoder2(hidden_size=hidden_size)\n",
        "model = VAE(encoder, decoder).float().to(DEVICE)\n",
        "loss_function = MyVAELosses\n",
        "optimizer1, optimizer2 = optim.Adam(encoder.parameters(), lr=lr), optim.Adam(decoder.parameters(), lr=lr)\n",
        "\n",
        "train_loss_values, val_loss_values =\\\n",
        "    fit(model, X2_train, X2_val, X2_test, optimizer1, optimizer2, loss_function, epochs, batch_size)"
      ],
      "execution_count": 184,
      "outputs": [
        {
          "output_type": "display_data",
          "data": {
            "application/vnd.jupyter.widget-view+json": {
              "model_id": "c03068f6fdea4b9fb830626082a4e15d",
              "version_minor": 0,
              "version_major": 2
            },
            "text/plain": [
              "HBox(children=(IntProgress(value=0, description='Epoch', max=10, style=ProgressStyle(description_width='initia…"
            ]
          },
          "metadata": {
            "tags": []
          }
        },
        {
          "output_type": "stream",
          "text": [
            "\n",
            "Test set loss:  [4.45877213 1.60807356 1.42534926]\n"
          ],
          "name": "stdout"
        }
      ]
    },
    {
      "cell_type": "code",
      "metadata": {
        "colab_type": "code",
        "outputId": "864df85e-2a56-4b96-d3bb-6dd527c9e2d5",
        "id": "8FQN2S0tleG5",
        "colab": {
          "base_uri": "https://localhost:8080/",
          "height": 458
        }
      },
      "source": [
        "plot_losses_and_samples(train_loss_values, val_loss_values, decoder, n_samples)"
      ],
      "execution_count": 185,
      "outputs": [
        {
          "output_type": "display_data",
          "data": {
            "image/png": "[encoded data removed]",
            "text/plain": [
              "<Figure size 504x504 with 4 Axes>"
            ]
          },
          "metadata": {
            "tags": []
          }
        }
      ]
    },
    {
      "cell_type": "markdown",
      "metadata": {
        "id": "LrKi8YZ4wqjH",
        "colab_type": "text"
      },
      "source": [
        "## 1.2 Part B"
      ]
    },
    {
      "cell_type": "code",
      "metadata": {
        "id": "9h5kaDemwtEv",
        "colab_type": "code",
        "colab": {}
      },
      "source": [
        "def sample_data_3():\n",
        "    count = 100000\n",
        "    rand = np.random.RandomState(0)\n",
        "    a = [[-1.5, 2.5]] + rand.randn(count // 3, 2) * 0.2\n",
        "    b = [[1.5, 2.5]] + rand.randn(count // 3, 2) * 0.2\n",
        "    c = np.c_[2 * np.cos(np.linspace(0, np.pi, count // 3)), -np.sin(np.linspace(0, np.pi, count // 3))]\n",
        "\n",
        "    c += rand.randn(*c.shape) * 0.2\n",
        "    data_x = np.concatenate([a, b, c], axis=0)\n",
        "    data_y = np.array([0] * len(a) + [1] * len(b) + [2] * len(c))\n",
        "    perm = rand.permutation(len(data_x))\n",
        "    return data_x[perm], data_y[perm]"
      ],
      "execution_count": 0,
      "outputs": []
    },
    {
      "cell_type": "code",
      "metadata": {
        "id": "UbTHOZM3Exoj",
        "colab_type": "code",
        "colab": {
          "base_uri": "https://localhost:8080/",
          "height": 35
        },
        "outputId": "c925c925-6d3c-4893-9d8e-562fbd956d43"
      },
      "source": [
        "X, y = sample_data_3()\n",
        "X_train, X_test, y_train, y_test = train_test_split(X, y, test_size=0.2)\n",
        "X_train, X_val, y_train, y_val = train_test_split(X_train, y_train, test_size=0.125)\n",
        "\n",
        "print(X_train.shape, X_val.shape, X_test.shape)"
      ],
      "execution_count": 208,
      "outputs": [
        {
          "output_type": "stream",
          "text": [
            "(69999, 2) (10000, 2) (20000, 2)\n"
          ],
          "name": "stdout"
        }
      ]
    },
    {
      "cell_type": "code",
      "metadata": {
        "id": "kZx1dA4InhoA",
        "colab_type": "code",
        "colab": {}
      },
      "source": [
        "hidden_size = 128\n",
        "lr = 1e-3\n",
        "batch_size = 128\n",
        "epochs = 900\n",
        "n_samples = 10000"
      ],
      "execution_count": 0,
      "outputs": []
    },
    {
      "cell_type": "code",
      "metadata": {
        "id": "yB7X74RNFUSb",
        "colab_type": "code",
        "colab": {}
      },
      "source": [
        "encoder, decoder = Encoder(hidden_size=hidden_size), Decoder1(hidden_size=hidden_size)\n",
        "model = VAE(encoder, decoder).float().to(DEVICE)\n",
        "loss_function = MyVAELosses\n",
        "optimizer1, optimizer2 = optim.Adam(encoder.parameters(), lr=lr), optim.Adam(decoder.parameters(), lr=lr)"
      ],
      "execution_count": 0,
      "outputs": []
    },
    {
      "cell_type": "code",
      "metadata": {
        "id": "DDykTmhl0-2m",
        "colab_type": "code",
        "colab": {
          "base_uri": "https://localhost:8080/",
          "height": 67,
          "referenced_widgets": [
            "85ba22abd64e4654992d143892ead7ad",
            "8ea0a92bc6af4aa5aebe5007050a419e",
            "78f3310c439a455d9d8d0f4b2169fe30",
            "ca0f6de4430c45eba187e762abd06217",
            "b5f1edfae0d545cf9f666fda8e58cce4",
            "3a1881beebdc462b9f74a30dcaa0524b",
            "196c0ad34c284ffeac28f41614ccb64f",
            "c063bf06d4a540a285d469d934ffda51"
          ]
        },
        "outputId": "29c4d747-8fed-4fc9-8542-5fa2ef786bd2"
      },
      "source": [
        "train_loss_values, val_loss_values =\\\n",
        "    fit(model, X_train, X_val, X_test, optimizer1, optimizer2, loss_function, epochs, batch_size)"
      ],
      "execution_count": 220,
      "outputs": [
        {
          "output_type": "display_data",
          "data": {
            "application/vnd.jupyter.widget-view+json": {
              "model_id": "85ba22abd64e4654992d143892ead7ad",
              "version_minor": 0,
              "version_major": 2
            },
            "text/plain": [
              "HBox(children=(IntProgress(value=0, description='Epoch', max=900, style=ProgressStyle(description_width='initi…"
            ]
          },
          "metadata": {
            "tags": []
          }
        },
        {
          "output_type": "stream",
          "text": [
            "Test set loss:  [ 1.60249043  2.56135049 -0.47943004]\n"
          ],
          "name": "stdout"
        }
      ]
    },
    {
      "cell_type": "code",
      "metadata": {
        "id": "cPhjV7rFFWGg",
        "colab_type": "code",
        "colab": {
          "base_uri": "https://localhost:8080/",
          "height": 514
        },
        "outputId": "32cef2ef-229a-4685-b8e9-82fdf1ee5557"
      },
      "source": [
        "plot_losses_and_samples(train_loss_values, val_loss_values, decoder, n_samples)"
      ],
      "execution_count": 221,
      "outputs": [
        {
          "output_type": "stream",
          "text": [
            "/usr/local/lib/python3.6/dist-packages/IPython/core/pylabtools.py:125: UserWarning: Creating legend with loc=\"best\" can be slow with large amounts of data.\n",
            "  fig.canvas.print_figure(bytes_io, **kw)\n"
          ],
          "name": "stderr"
        },
        {
          "output_type": "display_data",
          "data": {
            "image/png": "[encoded data removed]",
            "text/plain": [
              "<Figure size 504x504 with 4 Axes>"
            ]
          },
          "metadata": {
            "tags": []
          }
        }
      ]
    },
    {
      "cell_type": "code",
      "metadata": {
        "id": "O89AmCuFF_mf",
        "colab_type": "code",
        "colab": {
          "base_uri": "https://localhost:8080/",
          "height": 283
        },
        "outputId": "b1893f20-bec5-45d8-871f-b11e236c5e2d"
      },
      "source": [
        "mu_z, var_z = encoder(torch.from_numpy(X_train).float().to(DEVICE))\n",
        "z = mu_z + torch.randn(X_train.shape).float().to(DEVICE) * torch.sqrt(var_z)\n",
        "z = z.cpu().data.numpy()\n",
        "plt.scatter(z[y_train == 0, 0], z[y_train == 0, 1], marker='.', label='Label 0')\n",
        "plt.scatter(z[y_train == 1, 0], z[y_train == 1, 1], marker='.', label='Label 1')\n",
        "plt.scatter(z[y_train == 2, 0], z[y_train == 2, 1], marker='.', label='Label 2')\n",
        "plt.legend()"
      ],
      "execution_count": 222,
      "outputs": [
        {
          "output_type": "execute_result",
          "data": {
            "text/plain": [
              "<matplotlib.legend.Legend at 0x7fbcc0158860>"
            ]
          },
          "metadata": {
            "tags": []
          },
          "execution_count": 222
        },
        {
          "output_type": "display_data",
          "data": {
            "image/png": "[encoded data removed]",
            "text/plain": [
              "<Figure size 432x288 with 1 Axes>"
            ]
          },
          "metadata": {
            "tags": []
          }
        }
      ]
    },
    {
      "cell_type": "code",
      "metadata": {
        "id": "1HrHbrTFGCyo",
        "colab_type": "code",
        "colab": {}
      },
      "source": [
        "def prob(x, mu, var):\n",
        "    prob =  torch.exp(-0.5 * torch.pow(x - mu, 2) / var) / torch.sqrt(2.0 * np.pi * var)\n",
        "    return prob[:, :, 0:1] * prob[:, :, 1:]\n",
        "\n",
        "\n",
        "def IWAE(x, n_samples):\n",
        "    mu_z, var_z = encoder(x)\n",
        "    mu_z = torch.unsqueeze(mu_z, dim=0)\n",
        "    var_z = torch.unsqueeze(var_z, dim=0)\n",
        "    z = mu_z + torch.randn([n_samples, x.shape[0], x.shape[1]]).to(DEVICE) * torch.sqrt(var_z)\n",
        "\n",
        "    mu_x, var_x = decoder(z.view([-1, 2]))\n",
        "    mu_x = mu_x.view(z.shape)\n",
        "    var_x = var_x.view(z.shape)\n",
        "\n",
        "    p_x_z = prob(x, mu_x, var_x)\n",
        "    p_z = prob(z, torch.zeros_like(mu_z).to(DEVICE), torch.ones_like(var_z).to(DEVICE))\n",
        "    q_z_x = prob(z, mu_z, var_z)\n",
        "\n",
        "    iwae = torch.mean(p_x_z * p_z / q_z_x, dim=0)\n",
        "    iwae = torch.mean(torch.log(iwae))\n",
        "\n",
        "    return iwae"
      ],
      "execution_count": 0,
      "outputs": []
    },
    {
      "cell_type": "code",
      "metadata": {
        "id": "wbEOGPO7GFwt",
        "colab_type": "code",
        "colab": {
          "base_uri": "https://localhost:8080/",
          "height": 53
        },
        "outputId": "54e853fc-31a0-42e6-e86f-1d8da981638b"
      },
      "source": [
        "x = torch.from_numpy(X_test[:100]).float().cuda()\n",
        "elbo = IWAE(x, n_samples=1)\n",
        "iwae = IWAE(x, n_samples=100)\n",
        "\n",
        "print(\"ELBO: {:.6f}\".format(elbo.item()))\n",
        "print(\"IWAE: {:.6f}\".format(iwae.item()))"
      ],
      "execution_count": 224,
      "outputs": [
        {
          "output_type": "stream",
          "text": [
            "ELBO: -1.559858\n",
            "IWAE: -1.562584\n"
          ],
          "name": "stdout"
        }
      ]
    },
    {
      "cell_type": "code",
      "metadata": {
        "id": "poOlmFT8GH2q",
        "colab_type": "code",
        "colab": {}
      },
      "source": [
        ""
      ],
      "execution_count": 0,
      "outputs": []
    }
  ]
}
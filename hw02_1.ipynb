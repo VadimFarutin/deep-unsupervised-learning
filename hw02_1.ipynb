{
  "nbformat": 4,
  "nbformat_minor": 0,
  "metadata": {
    "kernelspec": {
      "name": "python3",
      "display_name": "Python 3"
    },
    "colab": {
      "name": "HSE_DUL_HW02.ipynb",
      "provenance": [],
      "collapsed_sections": [
        "okcxjqsMkjkB",
        "ski9cTTn0MgW"
      ],
      "toc_visible": true,
      "include_colab_link": true
    },
    "accelerator": "GPU",
    "widgets": {
      "application/vnd.jupyter.widget-state+json": {
        "b9e21c0df0864a1787b7d8c0e94d716c": {
          "model_module": "@jupyter-widgets/controls",
          "model_name": "HBoxModel",
          "state": {
            "_view_name": "HBoxView",
            "_dom_classes": [],
            "_model_name": "HBoxModel",
            "_view_module": "@jupyter-widgets/controls",
            "_model_module_version": "1.5.0",
            "_view_count": null,
            "_view_module_version": "1.5.0",
            "box_style": "",
            "layout": "IPY_MODEL_3274b4fc6e5942b19a4d0bb7fcfb2397",
            "_model_module": "@jupyter-widgets/controls",
            "children": [
              "IPY_MODEL_87c7dfe1f59e41459727e2d9195d3eb0",
              "IPY_MODEL_776b500bdbdb4215ad03b9610e4d1d2a"
            ]
          }
        },
        "3274b4fc6e5942b19a4d0bb7fcfb2397": {
          "model_module": "@jupyter-widgets/base",
          "model_name": "LayoutModel",
          "state": {
            "_view_name": "LayoutView",
            "grid_template_rows": null,
            "right": null,
            "justify_content": null,
            "_view_module": "@jupyter-widgets/base",
            "overflow": null,
            "_model_module_version": "1.2.0",
            "_view_count": null,
            "flex_flow": null,
            "width": null,
            "min_width": null,
            "border": null,
            "align_items": null,
            "bottom": null,
            "_model_module": "@jupyter-widgets/base",
            "top": null,
            "grid_column": null,
            "overflow_y": null,
            "overflow_x": null,
            "grid_auto_flow": null,
            "grid_area": null,
            "grid_template_columns": null,
            "flex": null,
            "_model_name": "LayoutModel",
            "justify_items": null,
            "grid_row": null,
            "max_height": null,
            "align_content": null,
            "visibility": null,
            "align_self": null,
            "height": null,
            "min_height": null,
            "padding": null,
            "grid_auto_rows": null,
            "grid_gap": null,
            "max_width": null,
            "order": null,
            "_view_module_version": "1.2.0",
            "grid_template_areas": null,
            "object_position": null,
            "object_fit": null,
            "grid_auto_columns": null,
            "margin": null,
            "display": null,
            "left": null
          }
        },
        "87c7dfe1f59e41459727e2d9195d3eb0": {
          "model_module": "@jupyter-widgets/controls",
          "model_name": "IntProgressModel",
          "state": {
            "_view_name": "ProgressView",
            "style": "IPY_MODEL_6dfaaeba8c124f69802a2ff5b9504de2",
            "_dom_classes": [],
            "description": "Epoch",
            "_model_name": "IntProgressModel",
            "bar_style": "success",
            "max": 5,
            "_view_module": "@jupyter-widgets/controls",
            "_model_module_version": "1.5.0",
            "value": 5,
            "_view_count": null,
            "_view_module_version": "1.5.0",
            "orientation": "horizontal",
            "min": 0,
            "description_tooltip": null,
            "_model_module": "@jupyter-widgets/controls",
            "layout": "IPY_MODEL_4087952998b140fb845d2a61db8bc758"
          }
        },
        "776b500bdbdb4215ad03b9610e4d1d2a": {
          "model_module": "@jupyter-widgets/controls",
          "model_name": "HTMLModel",
          "state": {
            "_view_name": "HTMLView",
            "style": "IPY_MODEL_ffc624b09b0e421ca789ae0671c6683d",
            "_dom_classes": [],
            "description": "",
            "_model_name": "HTMLModel",
            "placeholder": "​",
            "_view_module": "@jupyter-widgets/controls",
            "_model_module_version": "1.5.0",
            "value": "100% 5/5 [01:25&lt;00:00, 17.28s/it]",
            "_view_count": null,
            "_view_module_version": "1.5.0",
            "description_tooltip": null,
            "_model_module": "@jupyter-widgets/controls",
            "layout": "IPY_MODEL_19f724ac52c14f548819d1c5aa61b403"
          }
        },
        "6dfaaeba8c124f69802a2ff5b9504de2": {
          "model_module": "@jupyter-widgets/controls",
          "model_name": "ProgressStyleModel",
          "state": {
            "_view_name": "StyleView",
            "_model_name": "ProgressStyleModel",
            "description_width": "initial",
            "_view_module": "@jupyter-widgets/base",
            "_model_module_version": "1.5.0",
            "_view_count": null,
            "_view_module_version": "1.2.0",
            "bar_color": null,
            "_model_module": "@jupyter-widgets/controls"
          }
        },
        "4087952998b140fb845d2a61db8bc758": {
          "model_module": "@jupyter-widgets/base",
          "model_name": "LayoutModel",
          "state": {
            "_view_name": "LayoutView",
            "grid_template_rows": null,
            "right": null,
            "justify_content": null,
            "_view_module": "@jupyter-widgets/base",
            "overflow": null,
            "_model_module_version": "1.2.0",
            "_view_count": null,
            "flex_flow": null,
            "width": null,
            "min_width": null,
            "border": null,
            "align_items": null,
            "bottom": null,
            "_model_module": "@jupyter-widgets/base",
            "top": null,
            "grid_column": null,
            "overflow_y": null,
            "overflow_x": null,
            "grid_auto_flow": null,
            "grid_area": null,
            "grid_template_columns": null,
            "flex": null,
            "_model_name": "LayoutModel",
            "justify_items": null,
            "grid_row": null,
            "max_height": null,
            "align_content": null,
            "visibility": null,
            "align_self": null,
            "height": null,
            "min_height": null,
            "padding": null,
            "grid_auto_rows": null,
            "grid_gap": null,
            "max_width": null,
            "order": null,
            "_view_module_version": "1.2.0",
            "grid_template_areas": null,
            "object_position": null,
            "object_fit": null,
            "grid_auto_columns": null,
            "margin": null,
            "display": null,
            "left": null
          }
        },
        "ffc624b09b0e421ca789ae0671c6683d": {
          "model_module": "@jupyter-widgets/controls",
          "model_name": "DescriptionStyleModel",
          "state": {
            "_view_name": "StyleView",
            "_model_name": "DescriptionStyleModel",
            "description_width": "",
            "_view_module": "@jupyter-widgets/base",
            "_model_module_version": "1.5.0",
            "_view_count": null,
            "_view_module_version": "1.2.0",
            "_model_module": "@jupyter-widgets/controls"
          }
        },
        "19f724ac52c14f548819d1c5aa61b403": {
          "model_module": "@jupyter-widgets/base",
          "model_name": "LayoutModel",
          "state": {
            "_view_name": "LayoutView",
            "grid_template_rows": null,
            "right": null,
            "justify_content": null,
            "_view_module": "@jupyter-widgets/base",
            "overflow": null,
            "_model_module_version": "1.2.0",
            "_view_count": null,
            "flex_flow": null,
            "width": null,
            "min_width": null,
            "border": null,
            "align_items": null,
            "bottom": null,
            "_model_module": "@jupyter-widgets/base",
            "top": null,
            "grid_column": null,
            "overflow_y": null,
            "overflow_x": null,
            "grid_auto_flow": null,
            "grid_area": null,
            "grid_template_columns": null,
            "flex": null,
            "_model_name": "LayoutModel",
            "justify_items": null,
            "grid_row": null,
            "max_height": null,
            "align_content": null,
            "visibility": null,
            "align_self": null,
            "height": null,
            "min_height": null,
            "padding": null,
            "grid_auto_rows": null,
            "grid_gap": null,
            "max_width": null,
            "order": null,
            "_view_module_version": "1.2.0",
            "grid_template_areas": null,
            "object_position": null,
            "object_fit": null,
            "grid_auto_columns": null,
            "margin": null,
            "display": null,
            "left": null
          }
        }
      }
    }
  },
  "cells": [
    {
      "cell_type": "markdown",
      "metadata": {
        "id": "view-in-github",
        "colab_type": "text"
      },
      "source": [
        "<a href=\"https://colab.research.google.com/github/VadimFarutin/deep-unsupervised-learning/blob/hw02/hw02_1.ipynb\" target=\"_parent\"><img src=\"https://colab.research.google.com/assets/colab-badge.svg\" alt=\"Open In Colab\"/></a>"
      ]
    },
    {
      "cell_type": "markdown",
      "metadata": {
        "id": "kJqNPVBJroKY",
        "colab_type": "text"
      },
      "source": [
        "# HW02"
      ]
    },
    {
      "cell_type": "markdown",
      "metadata": {
        "id": "SrQu_IAartq0",
        "colab_type": "text"
      },
      "source": [
        "## 1 Flows in 2D"
      ]
    },
    {
      "cell_type": "markdown",
      "metadata": {
        "id": "okcxjqsMkjkB",
        "colab_type": "text"
      },
      "source": [
        "### Imports and Data"
      ]
    },
    {
      "cell_type": "code",
      "metadata": {
        "id": "AfYk_JjWsim4",
        "colab_type": "code",
        "colab": {}
      },
      "source": [
        "%%capture\n",
        "!pip install graphql-core==2.0\n",
        "!pip install wandb -q"
      ],
      "execution_count": 0,
      "outputs": []
    },
    {
      "cell_type": "code",
      "metadata": {
        "id": "Mx6pvu3gspLN",
        "colab_type": "code",
        "outputId": "b8a41f58-f4be-4457-e8cf-06fe71cf35d8",
        "colab": {
          "base_uri": "https://localhost:8080/",
          "height": 181
        }
      },
      "source": [
        "import wandb\n",
        "!wandb login"
      ],
      "execution_count": 2,
      "outputs": [
        {
          "output_type": "stream",
          "text": [
            "\u001b[34m\u001b[1mwandb\u001b[0m: (1) Create a W&B account\n",
            "\u001b[34m\u001b[1mwandb\u001b[0m: (2) Use an existing W&B account\n",
            "\u001b[34m\u001b[1mwandb\u001b[0m: (3) Don't visualize my results\n",
            "\u001b[34m\u001b[1mwandb\u001b[0m: Enter your choice: 2\n",
            "\u001b[34m\u001b[1mwandb\u001b[0m: You chose 'Use an existing W&B account'\n",
            "\u001b[34m\u001b[1mwandb\u001b[0m: You can find your API key in your browser here: https://app.wandb.ai/authorize\n",
            "\u001b[34m\u001b[1mwandb\u001b[0m: Paste an API key from your profile and hit enter: 8c292ca69e334e8a562d4a4c6570fdd3ad29c825\n",
            "\u001b[34m\u001b[1mwandb\u001b[0m: Appending key for api.wandb.ai to your netrc file: /root/.netrc\n",
            "\u001b[32mSuccessfully logged in to Weights & Biases!\u001b[0m\n"
          ],
          "name": "stdout"
        }
      ]
    },
    {
      "cell_type": "code",
      "metadata": {
        "id": "-GdLTPv3xdKi",
        "colab_type": "code",
        "colab": {}
      },
      "source": [
        "from collections import defaultdict\n",
        "from tqdm import tnrange, tqdm_notebook\n",
        "from tqdm.auto import tqdm\n",
        "from sklearn.model_selection import train_test_split\n",
        "import numpy as np\n",
        "from matplotlib import pyplot as plt\n",
        "import random\n",
        "\n",
        "import torch\n",
        "import torch.nn as nn\n",
        "from torch.nn.modules import loss\n",
        "import torch.nn.functional as F\n",
        "import torch.optim as optim\n",
        "from torch.utils.data.dataset import Dataset\n",
        "from torch.nn.utils.rnn import pad_sequence\n",
        "from torch.distributions import Normal, Uniform, MultivariateNormal"
      ],
      "execution_count": 0,
      "outputs": []
    },
    {
      "cell_type": "code",
      "metadata": {
        "id": "UnFSXUV3xdK0",
        "colab_type": "code",
        "colab": {}
      },
      "source": [
        "SEED = 42\n",
        "torch.manual_seed(SEED)\n",
        "torch.cuda.manual_seed_all(SEED)\n",
        "random.seed(SEED)\n",
        "np.random.seed(SEED)"
      ],
      "execution_count": 0,
      "outputs": []
    },
    {
      "cell_type": "code",
      "metadata": {
        "id": "th_KCfdCxdLC",
        "colab_type": "code",
        "outputId": "7c11f825-635a-4ae2-fbf7-b29f9392eba0",
        "colab": {
          "base_uri": "https://localhost:8080/",
          "height": 35
        }
      },
      "source": [
        "# DEVICE = torch.device('cuda' if torch.cuda.is_available() else 'cpu')\n",
        "DEVICE = torch.device('cpu')\n",
        "print(DEVICE)"
      ],
      "execution_count": 5,
      "outputs": [
        {
          "output_type": "stream",
          "text": [
            "cpu\n"
          ],
          "name": "stdout"
        }
      ]
    },
    {
      "cell_type": "code",
      "metadata": {
        "id": "OIa_xyG3zoAS",
        "colab_type": "code",
        "colab": {}
      },
      "source": [
        "EPS = 1e-9"
      ],
      "execution_count": 0,
      "outputs": []
    },
    {
      "cell_type": "code",
      "metadata": {
        "id": "JuXQFeCexdLM",
        "colab_type": "code",
        "colab": {}
      },
      "source": [
        "def sample_data():\n",
        "    count = 100000\n",
        "    rand = np.random.RandomState(0)\n",
        "    a = [[-1.5, 2.5]] + rand.randn(count // 3, 2) * 0.2\n",
        "    b = [[1.5, 2.5]] + rand.randn(count // 3, 2) * 0.2\n",
        "    c = np.c_[2 * np.cos(np.linspace(0, np.pi, count // 3)),\n",
        "              -np.sin(np.linspace(0, np.pi, count // 3))]\n",
        "    c += rand.randn(*c.shape) * 0.2\n",
        "    data_x = np.concatenate([a, b, c], axis=0)\n",
        "    data_y = np.array([0] * len(a) + [1] * len(b) + [2] * len(c))\n",
        "    perm = rand.permutation(len(data_x))\n",
        "    return data_x[perm], data_y[perm]"
      ],
      "execution_count": 0,
      "outputs": []
    },
    {
      "cell_type": "code",
      "metadata": {
        "id": "Y1Ni4f8NxdLt",
        "colab_type": "code",
        "colab": {}
      },
      "source": [
        "X, y = sample_data()\n",
        "X_train, X_test, y_train, y_test = train_test_split(X, y, test_size=0.2)\n",
        "X_train, X_val, y_train, y_val = train_test_split(X_train, y_train, test_size=0.125)"
      ],
      "execution_count": 0,
      "outputs": []
    },
    {
      "cell_type": "code",
      "metadata": {
        "id": "uuWkev9L00yv",
        "colab_type": "code",
        "outputId": "02f4af2b-344a-4866-9085-41bca41c8d64",
        "colab": {
          "base_uri": "https://localhost:8080/",
          "height": 72
        }
      },
      "source": [
        "print(X_train.shape, y_train.shape)\n",
        "print(X_val.shape, y_val.shape)\n",
        "print(X_test.shape, y_test.shape)"
      ],
      "execution_count": 8,
      "outputs": [
        {
          "output_type": "stream",
          "text": [
            "(69999, 2) (69999,)\n",
            "(10000, 2) (10000,)\n",
            "(20000, 2) (20000,)\n"
          ],
          "name": "stdout"
        }
      ]
    },
    {
      "cell_type": "markdown",
      "metadata": {
        "id": "ski9cTTn0MgW",
        "colab_type": "text"
      },
      "source": [
        "### Autoregressive flow"
      ]
    },
    {
      "cell_type": "code",
      "metadata": {
        "id": "kSL1y-d6WhBs",
        "colab_type": "code",
        "colab": {}
      },
      "source": [
        "class MyCDFParamsConst(nn.Module):\n",
        "    def __init__(self, k):\n",
        "        super(MyCDFParamsConst, self).__init__()\n",
        "        self.pi = nn.Parameter(torch.randn(k, requires_grad=True))\n",
        "        self.mu = nn.Parameter(torch.randn(k, requires_grad=True))\n",
        "        self.sigma = nn.Parameter(torch.randn(k, requires_grad=True))\n",
        "        self.softmax = nn.Softmax(dim=-1)\n",
        "\n",
        "    def forward(self, x):\n",
        "        pi = self.softmax(self.pi)\n",
        "        mu = self.mu\n",
        "        sigma = self.sigma\n",
        "        \n",
        "        return pi, mu, sigma\n",
        "\n",
        "    def __call__(self, x):\n",
        "        return self.forward(x)"
      ],
      "execution_count": 0,
      "outputs": []
    },
    {
      "cell_type": "code",
      "metadata": {
        "id": "_DeIbMWV0Go3",
        "colab_type": "code",
        "colab": {}
      },
      "source": [
        "class MyCDFParams(nn.Module):\n",
        "    def __init__(self, k, hidden_size):\n",
        "        super(MyCDFParams, self).__init__()\n",
        "        self.k = k\n",
        "\n",
        "        self.pi = nn.Sequential(nn.Linear(1, hidden_size),\n",
        "                                nn.ReLU(),\n",
        "                                nn.Linear(hidden_size, k),\n",
        "                                nn.Softmax(dim=1))\n",
        "        self.mu = nn.Sequential(nn.Linear(1, hidden_size),\n",
        "                                nn.ReLU(),\n",
        "                                nn.Linear(hidden_size, k))\n",
        "        self.sigma = nn.Sequential(nn.Linear(1, hidden_size),\n",
        "                                   nn.ReLU(),\n",
        "                                   nn.Linear(hidden_size, k))\n",
        "\n",
        "    def forward(self, x):\n",
        "        pi = self.pi(x)\n",
        "        mu = self.mu(x)\n",
        "        sigma = self.sigma(x)\n",
        "        \n",
        "        return pi, mu, sigma\n",
        "    \n",
        "    def __call__(self, x):\n",
        "        return self.forward(x)"
      ],
      "execution_count": 0,
      "outputs": []
    },
    {
      "cell_type": "code",
      "metadata": {
        "id": "qGcnazmn_zBo",
        "colab_type": "code",
        "colab": {}
      },
      "source": [
        "class MyFlow(nn.Module):\n",
        "    def __init__(self, k, hidden_size):\n",
        "        super(MyFlow, self).__init__()\n",
        "        self.k = k\n",
        "        self.params1 = MyCDFParamsConst(k).to(DEVICE)\n",
        "        self.params2 = MyCDFParams(k, hidden_size).to(DEVICE)\n",
        "\n",
        "    def forward(self, x):\n",
        "        x1, x2 = x[:, 0], x[:, 1]\n",
        "\n",
        "        pi1, mu1, sigma1 = self.params1(x1.view(-1, 1))\n",
        "        pi2, mu2, sigma2 = self.params2(x1.view(-1, 1))\n",
        "\n",
        "        p1 = torch.zeros(x.shape[0]).to(DEVICE)\n",
        "        p2 = torch.zeros(x.shape[0]).to(DEVICE)\n",
        "        \n",
        "        for i in range(self.k):\n",
        "            # could be NaN without exp, possibly because of log(scale) inside log_prob()\n",
        "            p1 += pi1[i] * Normal(mu1[i], torch.exp(sigma1[i])).log_prob(x1).exp()\n",
        "            p2 += pi2[:, i] * Normal(mu2[:, i], torch.exp(sigma2[:, i])).log_prob(x2).exp()\n",
        "\n",
        "        return p1 * p2 # * 1\n",
        "\n",
        "    def latent(self, x):\n",
        "        x1, x2 = x[:, 0], x[:, 1]\n",
        "\n",
        "        pi1, mu1, sigma1 = self.params1(x1.view(-1, 1))\n",
        "        pi2, mu2, sigma2 = self.params2(x1.view(-1, 1))\n",
        "\n",
        "        z1 = torch.zeros(x.shape[0]).to(DEVICE)\n",
        "        z2 = torch.zeros(x.shape[0]).to(DEVICE)\n",
        "            \n",
        "        for i in range(self.k):\n",
        "            z1 += pi1[i] * Normal(mu1[i], torch.exp(sigma1[i])).cdf(x1)\n",
        "            z2 += pi2[:, i] * Normal(mu2[:, i], torch.exp(sigma2[:, i])).cdf(x2)\n",
        "\n",
        "        return z1, z2\n",
        "\n",
        "    def inverse(self, z):\n",
        "        z1, z2 = z[:, 0], z[:, 1]\n",
        "\n",
        "        pi1, mu1, sigma1 = self.params1(z1.view(-1, 1))\n",
        "        x1 = torch.zeros(z.shape[0]).to(DEVICE)\n",
        "        for i in range(z.shape[0]):\n",
        "            j = np.random.choice(self.k, p=pi1.detach().numpy())\n",
        "            x1[i] = Normal(mu1[j], torch.exp(sigma1[j])).icdf(z1[i])\n",
        "\n",
        "        pi2, mu2, sigma2 = self.params2(x1.view(-1, 1))\n",
        "        x2 = torch.zeros(z.shape[0]).to(DEVICE)\n",
        "        for i in range(z.shape[0]):\n",
        "            j = np.random.choice(self.k, p=pi2[i].detach().numpy())\n",
        "            x2[i] = Normal(mu2[i, j], torch.exp(sigma2[i, j])).icdf(z2[i])\n",
        "\n",
        "        return x1, x2\n",
        "\n",
        "    def __call__(self, x):\n",
        "        return self.forward(x)"
      ],
      "execution_count": 0,
      "outputs": []
    },
    {
      "cell_type": "code",
      "metadata": {
        "id": "4HhGDJi7xvWt",
        "colab_type": "code",
        "colab": {}
      },
      "source": [
        "def MyNLLLoss(y):\n",
        "    return -torch.mean(torch.log(y + EPS)) / 2"
      ],
      "execution_count": 0,
      "outputs": []
    },
    {
      "cell_type": "code",
      "metadata": {
        "id": "6xw73WgmxdNT",
        "colab_type": "code",
        "colab": {}
      },
      "source": [
        "def fit(model, train, val, test, optimizer, loss_function, epoch_cnt, batch_size):\n",
        "    train_loader = torch.utils.data.DataLoader(torch.from_numpy(train), batch_size=batch_size, shuffle=True)\n",
        "    val_loader = torch.utils.data.DataLoader(torch.from_numpy(val), batch_size=batch_size)\n",
        "    test_loader = torch.utils.data.DataLoader(torch.from_numpy(test), batch_size=batch_size)\n",
        "    train_loss_values = []\n",
        "    val_loss_values = []\n",
        "            \n",
        "    for epoch in tnrange(epoch_cnt, desc='Epoch'):\n",
        "        model.train()\n",
        "        for batch_data in train_loader:\n",
        "            x = batch_data.float().to(DEVICE)\n",
        "            optimizer.zero_grad()\n",
        "            output = model(x)\n",
        "            loss = loss_function(output)\n",
        "            train_loss_values.append(loss)\n",
        "            loss.backward()\n",
        "            optimizer.step()\n",
        "\n",
        "            wandb.log({\"Train Loss\": loss})\n",
        "\n",
        "        loss_values = []\n",
        "        model.eval()\n",
        "        for batch_data in val_loader:\n",
        "            x = batch_data.float().to(DEVICE)\n",
        "            output = model(x)\n",
        "            loss = loss_function(output)\n",
        "            loss_values.append(loss.item())\n",
        "        val_loss_values.append(np.mean(np.array(loss_values)))\n",
        "\n",
        "        wandb.log({\"Validation Loss\": val_loss_values[-1]})\n",
        "\n",
        "    loss_values = []\n",
        "    for batch_data in test_loader:\n",
        "        x = batch_data.float().to(DEVICE)\n",
        "        output = model(x)\n",
        "        loss = loss_function(output)\n",
        "        loss_values.append(loss.item())\n",
        "\n",
        "    print(\"Test set loss: {:.3f}\".format(np.mean(np.array(loss_values))))\n",
        "    \n",
        "    return train_loss_values, val_loss_values \n"
      ],
      "execution_count": 0,
      "outputs": []
    },
    {
      "cell_type": "code",
      "metadata": {
        "id": "1jS9ol1_zFZO",
        "colab_type": "code",
        "outputId": "0b3bd50b-7bf0-42cc-c590-457625785aec",
        "colab": {
          "base_uri": "https://localhost:8080/",
          "height": 69
        }
      },
      "source": [
        "wandb.init(entity=\"vadim-farutin\", project=\"HSE-DUL-HW02-1\")\n",
        "wandb.watch_called = False # Re-run the model without restarting the runtime, unnecessary after our next release\n",
        "\n",
        "config = wandb.config\n",
        "config.k = 8\n",
        "config.hidden_size = 128\n",
        "config.lr = 1e-2\n",
        "config.batch_size = 512\n",
        "config.epochs = 5"
      ],
      "execution_count": 0,
      "outputs": [
        {
          "output_type": "display_data",
          "data": {
            "text/html": [
              "\n",
              "                Logging results to <a href=\"https://wandb.com\" target=\"_blank\">Weights & Biases</a> <a href=\"https://docs.wandb.com/integrations/jupyter.html\" target=\"_blank\">(Documentation)</a>.<br/>\n",
              "                Project page: <a href=\"https://app.wandb.ai/vadim-farutin/HSE-DUL-HW02-1\" target=\"_blank\">https://app.wandb.ai/vadim-farutin/HSE-DUL-HW02-1</a><br/>\n",
              "                Run page: <a href=\"https://app.wandb.ai/vadim-farutin/HSE-DUL-HW02-1/runs/jwcnjvet\" target=\"_blank\">https://app.wandb.ai/vadim-farutin/HSE-DUL-HW02-1/runs/jwcnjvet</a><br/>\n",
              "            "
            ],
            "text/plain": [
              "<IPython.core.display.HTML object>"
            ]
          },
          "metadata": {
            "tags": []
          }
        }
      ]
    },
    {
      "cell_type": "code",
      "metadata": {
        "id": "7TidGCKaxdNd",
        "colab_type": "code",
        "colab": {}
      },
      "source": [
        "model = MyFlow(config.k, config.hidden_size)\n",
        "model = model.float()\n",
        "model = model.to(DEVICE)"
      ],
      "execution_count": 0,
      "outputs": []
    },
    {
      "cell_type": "code",
      "metadata": {
        "id": "h1rI1_MYxdNi",
        "colab_type": "code",
        "colab": {}
      },
      "source": [
        "loss_function = MyNLLLoss\n",
        "optimizer = optim.Adam(model.parameters(), lr=config.lr)"
      ],
      "execution_count": 0,
      "outputs": []
    },
    {
      "cell_type": "code",
      "metadata": {
        "colab_type": "code",
        "outputId": "5f1b19bc-004d-4659-ddab-550f96f58085",
        "id": "zE_oT7BLVcz7",
        "colab": {
          "base_uri": "https://localhost:8080/",
          "height": 53,
          "referenced_widgets": [
            "3f6359a076194c5e83538f9de243b156"
          ]
        }
      },
      "source": [
        "train_loss_values, val_loss_values =\\\n",
        "    fit(model, X_train, X_val, X_test, optimizer, loss_function, config.epochs, config.batch_size)"
      ],
      "execution_count": 0,
      "outputs": [
        {
          "output_type": "display_data",
          "data": {
            "application/vnd.jupyter.widget-view+json": {
              "model_id": "3f6359a076194c5e83538f9de243b156",
              "version_minor": 0,
              "version_major": 2
            },
            "text/plain": [
              "HBox(children=(IntProgress(value=0, description='Epoch', max=5, style=ProgressStyle(description_width='initial…"
            ]
          },
          "metadata": {
            "tags": []
          }
        },
        {
          "output_type": "stream",
          "text": [
            "\n",
            "Test set loss: 0.681\n"
          ],
          "name": "stdout"
        }
      ]
    },
    {
      "cell_type": "code",
      "metadata": {
        "id": "vsH8OQi0xdNy",
        "colab_type": "code",
        "colab": {}
      },
      "source": [
        "def plot_loss_values(train_loss_values, val_loss_values):\n",
        "    plt.plot(np.arange(len(train_loss_values)), train_loss_values, color='blue', label='train')\n",
        "    plt.plot(np.arange(0, len(train_loss_values), len(train_loss_values) / config.epochs), val_loss_values, color='red', label='validation')\n",
        "    plt.legend()\n",
        "    plt.title(\"Loss values\")\n",
        "    plt.xlabel(\"iteration\")\n",
        "    plt.ylabel(\"loss\")\n",
        "    plt.show()"
      ],
      "execution_count": 0,
      "outputs": []
    },
    {
      "cell_type": "code",
      "metadata": {
        "scrolled": true,
        "id": "xcnlpTXKxdN3",
        "colab_type": "code",
        "outputId": "b8d9ecb7-9c9e-4b42-e9cf-5446fc7b7aa0",
        "colab": {
          "base_uri": "https://localhost:8080/",
          "height": 295
        }
      },
      "source": [
        "plot_loss_values(train_loss_values, val_loss_values)"
      ],
      "execution_count": 0,
      "outputs": [
        {
          "output_type": "display_data",
          "data": {
            "image/png": "[encoded data removed]",
            "text/plain": [
              "<Figure size 432x288 with 1 Axes>"
            ]
          },
          "metadata": {
            "tags": []
          }
        }
      ]
    },
    {
      "cell_type": "code",
      "metadata": {
        "id": "2Q6VNtZw8i9y",
        "colab_type": "code",
        "outputId": "608550e2-8d04-468c-d111-d50875cae07e",
        "colab": {
          "base_uri": "https://localhost:8080/",
          "height": 283
        }
      },
      "source": [
        "low = torch.tensor([0.0]).to(DEVICE)\n",
        "high = torch.tensor([1.0]).to(DEVICE)\n",
        "z = Uniform(low, high).rsample((10000, 2))\n",
        "x1, x2 = model.inverse(z)\n",
        "x1 = x1.cpu().detach().numpy()\n",
        "x2 = x2.cpu().detach().numpy()\n",
        "plt.figure()\n",
        "plt.scatter(x1, x2)"
      ],
      "execution_count": 0,
      "outputs": [
        {
          "output_type": "execute_result",
          "data": {
            "text/plain": [
              "<matplotlib.collections.PathCollection at 0x7f5f81285eb8>"
            ]
          },
          "metadata": {
            "tags": []
          },
          "execution_count": 138
        },
        {
          "output_type": "display_data",
          "data": {
            "image/png": "[encoded data removed]",
            "text/plain": [
              "<Figure size 432x288 with 1 Axes>"
            ]
          },
          "metadata": {
            "tags": []
          }
        }
      ]
    },
    {
      "cell_type": "code",
      "metadata": {
        "id": "NjpxYr9Mmogc",
        "colab_type": "code",
        "outputId": "b3cacc40-f4d4-4314-dbd5-28a51ad66cef",
        "colab": {
          "base_uri": "https://localhost:8080/",
          "height": 286
        }
      },
      "source": [
        "d = np.linspace(-4, 4, 100)\n",
        "samples = np.array(np.meshgrid(d, d)).T.reshape([-1, 2])\n",
        "samples = torch.from_numpy(samples).float().to(DEVICE)\n",
        "pdf = model(samples).cpu().detach().numpy().reshape(100, 100)\n",
        "plt.imshow(np.rot90(pdf, 1))"
      ],
      "execution_count": 0,
      "outputs": [
        {
          "output_type": "execute_result",
          "data": {
            "text/plain": [
              "<matplotlib.image.AxesImage at 0x7f5f81015048>"
            ]
          },
          "metadata": {
            "tags": []
          },
          "execution_count": 139
        },
        {
          "output_type": "display_data",
          "data": {
            "image/png": "[encoded data removed]",
            "text/plain": [
              "<Figure size 432x288 with 1 Axes>"
            ]
          },
          "metadata": {
            "tags": []
          }
        }
      ]
    },
    {
      "cell_type": "code",
      "metadata": {
        "id": "suiuQ1pG1b4T",
        "colab_type": "code",
        "outputId": "b42be67f-0cb1-4c8b-da9d-81ffa1d94d40",
        "colab": {
          "base_uri": "https://localhost:8080/",
          "height": 283
        }
      },
      "source": [
        "x = torch.from_numpy(X).float().to(DEVICE)\n",
        "z1, z2 = model.latent(x)\n",
        "z1 = z1.cpu().detach().numpy()\n",
        "z2 = z2.cpu().detach().numpy()\n",
        "plt.figure()\n",
        "plt.scatter(z1[y == 0], z2[y == 0], label='0')\n",
        "plt.scatter(z1[y == 1], z2[y == 1], label='1')\n",
        "plt.scatter(z1[y == 2], z2[y == 2], label='2')\n",
        "plt.legend()"
      ],
      "execution_count": 0,
      "outputs": [
        {
          "output_type": "execute_result",
          "data": {
            "text/plain": [
              "<matplotlib.legend.Legend at 0x7f5f8189db00>"
            ]
          },
          "metadata": {
            "tags": []
          },
          "execution_count": 140
        },
        {
          "output_type": "display_data",
          "data": {
            "image/png": "[encoded data removed]",
            "text/plain": [
              "<Figure size 432x288 with 1 Axes>"
            ]
          },
          "metadata": {
            "tags": []
          }
        }
      ]
    },
    {
      "cell_type": "markdown",
      "metadata": {
        "id": "VUW2EIlZY_6y",
        "colab_type": "text"
      },
      "source": [
        "### RealNVP"
      ]
    },
    {
      "cell_type": "code",
      "metadata": {
        "id": "ZlBX7sZ4S2Q3",
        "colab_type": "code",
        "colab": {}
      },
      "source": [
        "class MyCouplingLayer(nn.Module):\n",
        "    def __init__(self, mask, hidden_size):\n",
        "        super(MyCouplingLayer, self).__init__()\n",
        "        self.mask = mask\n",
        "        self.s = nn.Sequential(nn.Linear(2, hidden_size),\n",
        "                               nn.ReLU(),\n",
        "                               nn.Linear(hidden_size, hidden_size),\n",
        "                               nn.ReLU(),\n",
        "                               nn.Linear(hidden_size, 2),\n",
        "                               nn.Tanh()).to(DEVICE)\n",
        "        self.t = nn.Sequential(nn.Linear(2, hidden_size),\n",
        "                               nn.ReLU(),\n",
        "                               nn.Linear(hidden_size, hidden_size),\n",
        "                               nn.ReLU(),\n",
        "                               nn.Linear(hidden_size, 2)).to(DEVICE)\n",
        "\n",
        "    def forward(self, x):\n",
        "        z1 = self.mask * x\n",
        "        s = (1 - self.mask) * self.s(z1)\n",
        "        t = (1 - self.mask) * self.t(z1)\n",
        "        log_prob = torch.sum(s, dim=1).view(-1, 1)\n",
        "\n",
        "        return log_prob\n",
        "\n",
        "    def latent(self, x):\n",
        "        z1 = self.mask * x\n",
        "        s = (1 - self.mask) * self.s(z1)\n",
        "        t = (1 - self.mask) * self.t(z1)\n",
        "        z2 = (1 - self.mask) * (x * torch.exp(s) + t)\n",
        "\n",
        "        return z1 + z2\n",
        "\n",
        "    def inverse(self, z):\n",
        "        x1 = self.mask * z\n",
        "        s = (1 - self.mask) * self.s(x1)\n",
        "        t = (1 - self.mask) * self.t(x1)\n",
        "        x2 = (1 - self.mask) * ((z - t) * torch.exp(-s))\n",
        "\n",
        "        return x1 + x2\n",
        "    \n",
        "    def __call__(self, x):\n",
        "        return self.forward(x)"
      ],
      "execution_count": 0,
      "outputs": []
    },
    {
      "cell_type": "code",
      "metadata": {
        "id": "gepynjQgdlCT",
        "colab_type": "code",
        "colab": {}
      },
      "source": [
        "class MyRealNVP(nn.Module):\n",
        "    def __init__(self, hidden_size):\n",
        "        super(MyRealNVP, self).__init__()\n",
        "        mask = torch.tensor([[0, 1]]).to(DEVICE)\n",
        "\n",
        "        self.layers = nn.Sequential(MyCouplingLayer(mask, hidden_size),\n",
        "                                    MyCouplingLayer(1 - mask, hidden_size),\n",
        "                                    MyCouplingLayer(mask, hidden_size),\n",
        "                                    MyCouplingLayer(1 - mask, hidden_size),\n",
        "                                    MyCouplingLayer(mask, hidden_size),\n",
        "                                    MyCouplingLayer(1 - mask, hidden_size),\n",
        "                                    MyCouplingLayer(mask, hidden_size))\n",
        "\n",
        "    def forward(self, x):\n",
        "        log_prob = torch.zeros((x.shape[0], 1)).to(DEVICE)\n",
        "        z = x\n",
        "\n",
        "        for layer in self.layers:\n",
        "            log_prob += layer(z)\n",
        "            z = layer.latent(z)\n",
        "\n",
        "        z = torch.sigmoid(z)\n",
        "        log_prob += torch.log(z * (1 - z) + EPS).sum(dim=1).view(-1, 1)\n",
        "\n",
        "        return log_prob.exp()\n",
        "\n",
        "    def latent(self, x):\n",
        "        z = x\n",
        "\n",
        "        for layer in self.layers:\n",
        "            z = layer.latent(z)\n",
        "        \n",
        "        z = torch.sigmoid(z)\n",
        "\n",
        "        return z[:, 0], z[:, 1]\n",
        "\n",
        "    def inverse(self, z):\n",
        "        x = -torch.log(1 / z - 1 + EPS)\n",
        "\n",
        "        for layer in reversed(self.layers):\n",
        "            x = layer.inverse(x)\n",
        "\n",
        "        return x[:, 0], x[:, 1]\n",
        "\n",
        "    def __call__(self, x):\n",
        "        return self.forward(x)"
      ],
      "execution_count": 0,
      "outputs": []
    },
    {
      "cell_type": "code",
      "metadata": {
        "colab_type": "code",
        "outputId": "142390b2-4d9a-4840-fba8-dccf7d82a29b",
        "id": "qBd-rgr7d1QI",
        "colab": {
          "base_uri": "https://localhost:8080/",
          "height": 69
        }
      },
      "source": [
        "wandb.init(entity=\"vadim-farutin\", project=\"HSE-DUL-HW02-2\")\n",
        "wandb.watch_called = False # Re-run the model without restarting the runtime, unnecessary after our next release\n",
        "\n",
        "config = wandb.config\n",
        "config.hidden_size = 128\n",
        "config.lr = 1e-3\n",
        "config.batch_size = 128\n",
        "config.epochs = 5"
      ],
      "execution_count": 52,
      "outputs": [
        {
          "output_type": "display_data",
          "data": {
            "text/html": [
              "\n",
              "                Logging results to <a href=\"https://wandb.com\" target=\"_blank\">Weights & Biases</a> <a href=\"https://docs.wandb.com/integrations/jupyter.html\" target=\"_blank\">(Documentation)</a>.<br/>\n",
              "                Project page: <a href=\"https://app.wandb.ai/vadim-farutin/HSE-DUL-HW02-2\" target=\"_blank\">https://app.wandb.ai/vadim-farutin/HSE-DUL-HW02-2</a><br/>\n",
              "                Run page: <a href=\"https://app.wandb.ai/vadim-farutin/HSE-DUL-HW02-2/runs/gc0giv57\" target=\"_blank\">https://app.wandb.ai/vadim-farutin/HSE-DUL-HW02-2/runs/gc0giv57</a><br/>\n",
              "            "
            ],
            "text/plain": [
              "<IPython.core.display.HTML object>"
            ]
          },
          "metadata": {
            "tags": []
          }
        }
      ]
    },
    {
      "cell_type": "code",
      "metadata": {
        "colab_type": "code",
        "id": "CLCpjrw0d1RC",
        "colab": {}
      },
      "source": [
        "model = MyRealNVP(config.hidden_size)\n",
        "model = model.float()\n",
        "model = model.to(DEVICE)"
      ],
      "execution_count": 0,
      "outputs": []
    },
    {
      "cell_type": "code",
      "metadata": {
        "colab_type": "code",
        "id": "IJknelYMd1RS",
        "colab": {}
      },
      "source": [
        "loss_function = MyNLLLoss\n",
        "optimizer = optim.Adam(model.parameters(), lr=config.lr, weight_decay=0)"
      ],
      "execution_count": 0,
      "outputs": []
    },
    {
      "cell_type": "code",
      "metadata": {
        "colab_type": "code",
        "outputId": "d1a843ce-f853-46b1-cd4e-2ca4bdc94c76",
        "id": "Y3s-B0i4d1Rb",
        "colab": {
          "base_uri": "https://localhost:8080/",
          "height": 85,
          "referenced_widgets": [
            "b9e21c0df0864a1787b7d8c0e94d716c",
            "3274b4fc6e5942b19a4d0bb7fcfb2397",
            "87c7dfe1f59e41459727e2d9195d3eb0",
            "776b500bdbdb4215ad03b9610e4d1d2a",
            "6dfaaeba8c124f69802a2ff5b9504de2",
            "4087952998b140fb845d2a61db8bc758",
            "ffc624b09b0e421ca789ae0671c6683d",
            "19f724ac52c14f548819d1c5aa61b403"
          ]
        }
      },
      "source": [
        "train_loss_values, val_loss_values =\\\n",
        "    fit(model, X_train, X_val, X_test, optimizer, loss_function, config.epochs, config.batch_size)"
      ],
      "execution_count": 38,
      "outputs": [
        {
          "output_type": "display_data",
          "data": {
            "application/vnd.jupyter.widget-view+json": {
              "model_id": "b9e21c0df0864a1787b7d8c0e94d716c",
              "version_minor": 0,
              "version_major": 2
            },
            "text/plain": [
              "HBox(children=(IntProgress(value=0, description='Epoch', max=5, style=ProgressStyle(description_width='initial…"
            ]
          },
          "metadata": {
            "tags": []
          }
        },
        {
          "output_type": "stream",
          "text": [
            "\n",
            "Test set loss: 0.697\n"
          ],
          "name": "stdout"
        }
      ]
    },
    {
      "cell_type": "code",
      "metadata": {
        "scrolled": true,
        "colab_type": "code",
        "outputId": "760fcfdc-e86e-481d-da7b-4a650766cd2c",
        "id": "PyIau5eBjCa3",
        "colab": {
          "base_uri": "https://localhost:8080/",
          "height": 295
        }
      },
      "source": [
        "plot_loss_values(train_loss_values, val_loss_values)"
      ],
      "execution_count": 39,
      "outputs": [
        {
          "output_type": "display_data",
          "data": {
            "image/png": "[encoded data removed]",
            "text/plain": [
              "<Figure size 432x288 with 1 Axes>"
            ]
          },
          "metadata": {
            "tags": []
          }
        }
      ]
    },
    {
      "cell_type": "code",
      "metadata": {
        "colab_type": "code",
        "outputId": "09f2fb6a-3355-453e-ba63-c2ac4de94225",
        "id": "B3scvEa1jCbW",
        "colab": {
          "base_uri": "https://localhost:8080/",
          "height": 283
        }
      },
      "source": [
        "low = torch.tensor([0.0 + EPS]).to(DEVICE)\n",
        "high = torch.tensor([1.0 - EPS]).to(DEVICE)\n",
        "z = Uniform(low, high).rsample((18000, 1))\n",
        "z = z.view(-1, 2)\n",
        "\n",
        "x1, x2 = model.inverse(z)\n",
        "x1 = x1.cpu().detach().numpy()\n",
        "x2 = x2.cpu().detach().numpy()\n",
        "plt.figure()\n",
        "plt.scatter(x1, x2)"
      ],
      "execution_count": 50,
      "outputs": [
        {
          "output_type": "execute_result",
          "data": {
            "text/plain": [
              "<matplotlib.collections.PathCollection at 0x7fbbca7ae438>"
            ]
          },
          "metadata": {
            "tags": []
          },
          "execution_count": 50
        },
        {
          "output_type": "display_data",
          "data": {
            "image/png": "[encoded data removed]",
            "text/plain": [
              "<Figure size 432x288 with 1 Axes>"
            ]
          },
          "metadata": {
            "tags": []
          }
        }
      ]
    },
    {
      "cell_type": "code",
      "metadata": {
        "colab_type": "code",
        "outputId": "ef89f6e5-d687-4931-b2b8-aee3e5d5e42d",
        "id": "0G6FvLc9jCbi",
        "colab": {
          "base_uri": "https://localhost:8080/",
          "height": 286
        }
      },
      "source": [
        "d = np.linspace(-4, 4, 100)\n",
        "samples = np.array(np.meshgrid(d, d)).T.reshape([-1, 2])\n",
        "samples = torch.from_numpy(samples).float().to(DEVICE)\n",
        "pdf = model(samples).cpu().detach().numpy().reshape(100, 100)\n",
        "plt.imshow(np.rot90(pdf, 1))"
      ],
      "execution_count": 42,
      "outputs": [
        {
          "output_type": "execute_result",
          "data": {
            "text/plain": [
              "<matplotlib.image.AxesImage at 0x7fbbca8904a8>"
            ]
          },
          "metadata": {
            "tags": []
          },
          "execution_count": 42
        },
        {
          "output_type": "display_data",
          "data": {
            "image/png": "[encoded data removed]",
            "text/plain": [
              "<Figure size 432x288 with 1 Axes>"
            ]
          },
          "metadata": {
            "tags": []
          }
        }
      ]
    },
    {
      "cell_type": "code",
      "metadata": {
        "colab_type": "code",
        "outputId": "1da20cff-54ab-46c0-949a-1eaaa89794d0",
        "id": "dW4RiJo2jCbt",
        "colab": {
          "base_uri": "https://localhost:8080/",
          "height": 283
        }
      },
      "source": [
        "x = torch.from_numpy(X).float().to(DEVICE)\n",
        "z1, z2 = model.latent(x)\n",
        "z1 = z1.cpu().detach().numpy()\n",
        "z2 = z2.cpu().detach().numpy()\n",
        "plt.figure()\n",
        "plt.scatter(z1[y == 0], z2[y == 0], label='0')\n",
        "plt.scatter(z1[y == 1], z2[y == 1], label='1')\n",
        "plt.scatter(z1[y == 2], z2[y == 2], label='2')\n",
        "plt.legend()"
      ],
      "execution_count": 43,
      "outputs": [
        {
          "output_type": "execute_result",
          "data": {
            "text/plain": [
              "<matplotlib.legend.Legend at 0x7fbbca74e7f0>"
            ]
          },
          "metadata": {
            "tags": []
          },
          "execution_count": 43
        },
        {
          "output_type": "display_data",
          "data": {
            "image/png": "[encoded data removed]",
            "text/plain": [
              "<Figure size 432x288 with 1 Axes>"
            ]
          },
          "metadata": {
            "tags": []
          }
        }
      ]
    }
  ]
}